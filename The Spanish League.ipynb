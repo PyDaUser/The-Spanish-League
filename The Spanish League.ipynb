{
  "cells": [
    {
      "metadata": {
        "_uuid": "dafc946df1d0198cfaae0e46de81acff114c6fa7",
        "_cell_guid": "5dffd10c-8bb9-4b26-83f7-083d827c87fb"
      },
      "cell_type": "markdown",
      "source": "# The Spanish League: Exploratory Data Analysis\nIn this notebook, we will analyze the data about the Spanish League for the seasons from 1970-71 until 2017-18 (although the data for the last season is not yet complete, because this season is still in progress).\n## Import the libraries:"
    },
    {
      "metadata": {
        "_uuid": "8f2839f25d086af736a60e9eeb907d3b93b6e0e5",
        "_cell_guid": "b1076dfc-b9ad-4769-8c92-a6c4dae69d19",
        "trusted": false,
        "collapsed": true
      },
      "cell_type": "code",
      "source": "# This Python 3 environment comes with many helpful analytics libraries installed\n# It is defined by the kaggle/python docker image: https://github.com/kaggle/docker-python\n# For example, here's several helpful packages to load in \n\nimport numpy as np # linear algebra\nimport pandas as pd # data processing, CSV file I/O (e.g. pd.read_csv)\n\n# Input data files are available in the \"../input/\" directory.\n# For example, running this (by clicking run or pressing Shift+Enter) will list the files in the input directory\n\nimport os\nprint(os.listdir(\"../input\"))\n\n# Any results you write to the current directory are saved as output.",
      "execution_count": null,
      "outputs": []
    },
    {
      "metadata": {
        "_uuid": "2cb3d8cddb222e53778b828c323ea7b3e2da0876",
        "_cell_guid": "c738b7a1-da9a-4559-a99a-bf2e96110780"
      },
      "cell_type": "markdown",
      "source": "## Read the input file:"
    },
    {
      "metadata": {
        "_uuid": "d629ff2d2480ee46fbb7e2d37f6b5fab8052498a",
        "_cell_guid": "79c7e3d0-c299-4dcb-8224-4455121ee9b0",
        "collapsed": true,
        "trusted": false
      },
      "cell_type": "code",
      "source": "matches = pd.read_csv(\"../input/FMEL_Dataset.csv\")",
      "execution_count": null,
      "outputs": []
    },
    {
      "metadata": {
        "_uuid": "e98188a35352f923d2f2e52b5dd02f7169b6d970",
        "_cell_guid": "b9fbc766-18ec-45e8-a5f6-2d2b3a28283b"
      },
      "cell_type": "markdown",
      "source": "## Check the head of the dataframe:"
    },
    {
      "metadata": {
        "_uuid": "8dcc6ab23f8412270caec241d2a213a41562bb17",
        "_cell_guid": "752f6902-9252-4a52-9b65-64c747c7575a",
        "trusted": false,
        "collapsed": true
      },
      "cell_type": "code",
      "source": "print(matches.head())",
      "execution_count": null,
      "outputs": []
    },
    {
      "metadata": {
        "_uuid": "418b91414ef3ca7838af7e64d08e8bf2e45edba9",
        "_cell_guid": "75a55f37-7ddd-4105-9fa5-b9c50400eb2b"
      },
      "cell_type": "markdown",
      "source": "## Check for missing values:"
    },
    {
      "metadata": {
        "_uuid": "19aa14602e24e109f969f9a868d83ebacb51e355",
        "_cell_guid": "03affacc-8922-4a66-adfd-9e69ac27031e",
        "trusted": false,
        "collapsed": true
      },
      "cell_type": "code",
      "source": "matches.isnull().sum()",
      "execution_count": null,
      "outputs": []
    },
    {
      "metadata": {
        "_uuid": "3708415d3bb9b15f954cbc4aa060b5fb0b9fd209",
        "_cell_guid": "05200762-d6b2-4931-b363-af99f05a2cc3"
      },
      "cell_type": "markdown",
      "source": "## Check the summary of the dataframe:"
    },
    {
      "metadata": {
        "_uuid": "0d3ec02d0c2d1311b3845dcbd4ec0829ad4c0862",
        "_cell_guid": "8ecd0c78-02bf-45c9-b6b1-165e54c201b5",
        "trusted": false,
        "collapsed": true
      },
      "cell_type": "code",
      "source": "matches.info()",
      "execution_count": null,
      "outputs": []
    },
    {
      "metadata": {
        "_uuid": "05312207d4868570ed74b0b2fc4b279ab683bc11",
        "_cell_guid": "68d8bce8-095d-4f8b-aaa2-fe2bf9f6737b"
      },
      "cell_type": "markdown",
      "source": "We see that we have 36652 observations and 10 features. Next we will focus on division 1 only."
    },
    {
      "metadata": {
        "_uuid": "6d67bb3498e2d5faa425b46165021b4d8794a0a6",
        "_cell_guid": "3c238959-ed9f-4bdc-a2a3-eeb0c2850880",
        "trusted": false,
        "collapsed": true
      },
      "cell_type": "code",
      "source": "division1 = matches[matches['division'] == 1]\ndivision1.drop('division', axis = 1, inplace = True)\ndivision1.head()",
      "execution_count": null,
      "outputs": []
    },
    {
      "metadata": {
        "_uuid": "b40d736d57daf32f8f50d5a7220487fe525cd05f",
        "_cell_guid": "4401e8eb-68a5-42ae-98ea-004a8ef6d6a9",
        "collapsed": true,
        "trusted": false
      },
      "cell_type": "code",
      "source": "import seaborn as sns\nimport matplotlib.pyplot as plt\n%matplotlib inline",
      "execution_count": null,
      "outputs": []
    },
    {
      "metadata": {
        "_uuid": "7cd1700030d90794847e0c61befc114caf913ed3",
        "_cell_guid": "330dcdf2-b081-43d4-a5d4-a4f33743a6e0"
      },
      "cell_type": "markdown",
      "source": "## Compare the total number of local goals vs. total number of visitor goals in each season:"
    },
    {
      "metadata": {
        "_uuid": "5ae4b3a87af5d6f36f907dee4e55a8a8d0f8191e",
        "_cell_guid": "be2e0eea-9d5b-4762-bded-72f7790b3801",
        "trusted": false,
        "collapsed": true
      },
      "cell_type": "code",
      "source": "local_visitor_goals = division1.groupby('season')[['localGoals', 'visitorGoals']].sum()\nlocal_visitor_goals.reset_index(inplace = True)\nlocal_visitor_goals.head()",
      "execution_count": null,
      "outputs": []
    },
    {
      "metadata": {
        "_uuid": "5bc1947c4cd0b27e9b01d31465910f6df429f7dd",
        "_cell_guid": "4168426f-ca3a-4fd3-82ea-f8f39f1dac5c",
        "trusted": false,
        "collapsed": true
      },
      "cell_type": "code",
      "source": "plt.figure(figsize=(20, 12))\nplt.xticks(rotation='vertical')\nsns.set_color_codes(\"pastel\")\ng1 = sns.barplot(x = 'season', y = 'localGoals', data = local_visitor_goals, label = \"Local\", color = 'b')\nsns.set_color_codes(\"muted\")\ng2 = sns.barplot(x = 'season', y = 'visitorGoals', data = local_visitor_goals, label = \"Visitor\", color = 'b')\n\nfor rect in g1.patches:\n    height = rect.get_height()\n    plt.text(rect.get_x() + rect.get_width()/2.0, height, '%d' % int(height), ha='center', va='bottom')\n\n    \nplt.ylabel(\"\")\nplt.xlabel(\"Total number of goals\")\nplt.legend()",
      "execution_count": null,
      "outputs": []
    },
    {
      "metadata": {
        "_uuid": "f96bf3560e30c63e9c9dad2f19ba4da4e6b02574",
        "_cell_guid": "2f140673-0f54-4913-8db5-e9abe00b5432"
      },
      "cell_type": "markdown",
      "source": "It is evident that the total number of goals that were scored by the local teams is greater than the total number of goals scored by the visitor teams for every single season. This is to be expected, since local teams play on their own stadium and between their own supporters, which play an important psychological role. "
    },
    {
      "metadata": {
        "_uuid": "7ba1da86007ad6031f2dab9f685c562a97353c86",
        "_cell_guid": "13bb4d9f-1bdd-445e-927c-b0e50163831e"
      },
      "cell_type": "markdown",
      "source": "## The total number of local goals for each team in all seasons:"
    },
    {
      "metadata": {
        "_uuid": "f52c064f6756a7e7b9931fd17ab1eaaec9f946e1",
        "_cell_guid": "b75badcb-7cf0-4ef5-8d65-5ff90e54de5d",
        "trusted": false,
        "collapsed": true
      },
      "cell_type": "code",
      "source": "local_team = division1.groupby('localTeam')['localGoals'].sum()\nlocal_team = pd.DataFrame(local_team)\nlocal_team.head()",
      "execution_count": null,
      "outputs": []
    },
    {
      "metadata": {
        "_uuid": "ba04a0df071fd0b6747f53a0fdb1db24fe9094c7",
        "_cell_guid": "3ccc179a-3b14-4145-90e9-41bba0555946",
        "trusted": false,
        "collapsed": true
      },
      "cell_type": "code",
      "source": "plt.figure(figsize=(12, 12))\nplt.xticks(rotation='vertical')\ng = sns.barplot(x = 'localTeam', y = 'localGoals', data = local_team.sort_values('localGoals').reset_index())\nplt.title(\"Total Local Goals\")\nfor rect in g.patches:\n    height = rect.get_height()\n    plt.text(rect.get_x() + rect.get_width()/2.0, height + 20, '%d' % int(height), ha='center', va='bottom', rotation = 'vertical')",
      "execution_count": null,
      "outputs": []
    },
    {
      "metadata": {
        "_uuid": "e90bd30213a7aa5e9e32c4ea466faae544b5c056",
        "_cell_guid": "bdb6e635-3e35-4473-82e1-521883cf45cf"
      },
      "cell_type": "markdown",
      "source": "We see that Barcelona and Real Madrid both have scored the same maximum number of local goals in all seasons, which is 2200, followed by Altlico de Madrid with 1579."
    },
    {
      "metadata": {
        "_uuid": "fea12187bc95d889eaf85d7a81d9a09807fd912a",
        "_cell_guid": "83b05668-28d2-4a4d-a4cd-de08854ffd26"
      },
      "cell_type": "markdown",
      "source": "## The total number of visitor goals for each team in all seasons:"
    },
    {
      "metadata": {
        "_uuid": "d076539cdecd3a5da536adc44bc1d45eb4a9ead4",
        "_cell_guid": "4ad3cd8b-7b2d-4f85-8594-fc4d33e50153",
        "trusted": false,
        "collapsed": true
      },
      "cell_type": "code",
      "source": "visitor_team = division1.groupby('visitorTeam')['visitorGoals'].sum()\nvisitor_team = pd.DataFrame(visitor_team)\nvisitor_team.head()",
      "execution_count": null,
      "outputs": []
    },
    {
      "metadata": {
        "_uuid": "15aaa7e12663dfc8f392c4d0832b6f3940b19183",
        "_cell_guid": "2a6aeddd-0b32-4a31-920c-a9e737f76e82",
        "trusted": false,
        "collapsed": true
      },
      "cell_type": "code",
      "source": "plt.figure(figsize=(12, 12))\nplt.xticks(rotation='vertical')\ng = sns.barplot(x = 'visitorTeam', y = 'visitorGoals', data = visitor_team.sort_values('visitorGoals').reset_index())\nplt.title(\"Total Visitor Goals\")\nfor rect in g.patches:\n    height = rect.get_height()\n    plt.text(rect.get_x() + rect.get_width()/2.0, height + 20, '%d' % int(height), ha='center', va='bottom', rotation = 'vertical')",
      "execution_count": null,
      "outputs": []
    },
    {
      "metadata": {
        "_uuid": "7a30310becf2a78366347cf54e99de271c51715f",
        "_cell_guid": "7051f1b5-2740-4b25-91b1-3f0f6d70f7c6"
      },
      "cell_type": "markdown",
      "source": "Barcelona beats Real Madrid by one goal in the total number of visitor goals in all seasons for this data. It is no coincidence we have comparable results for these two teams, since they (Barcelona and Real Madrid) are the strongest two teams in the Spanish League division 1, and they compete on the title most of the seasons (as we will see next)."
    },
    {
      "metadata": {
        "_uuid": "c5e15c9448268269d2b8fc72e23658f68432df84",
        "_cell_guid": "d1029cf2-9780-4888-9c53-a8c00e21653e",
        "collapsed": true,
        "trusted": false
      },
      "cell_type": "code",
      "source": "seasons = list(division1['season'].unique())",
      "execution_count": null,
      "outputs": []
    },
    {
      "metadata": {
        "_uuid": "0106ea014d755fb493a1ff66b7ef955cd4ad415d",
        "_cell_guid": "bb7fd77e-f47f-4bca-96b1-482b53131560",
        "collapsed": true,
        "trusted": false
      },
      "cell_type": "code",
      "source": "teams = list(division1['localTeam'].unique())",
      "execution_count": null,
      "outputs": []
    },
    {
      "metadata": {
        "_uuid": "16a70365aed121f69003dd93e491b10df4b701d5",
        "_cell_guid": "58105b9c-3a87-45bb-b403-a73159df8065"
      },
      "cell_type": "markdown",
      "source": "## Calculate the points for each match:\nNext we will extract more information from the data provided using the local and visitor goals for each match. An important point in this regard is that the 3-1-0 point system was adopted in spain in 1995. Before that it was 2-1-0 (for win-draw-loss). Another important point is that when two teams have the same max number of total points after the final game, the tie is broken by comparing the total goals of each team in the matches where they played agaisnt each others. The following is just an implemenation of these two simple rules to calculate the total points of each team in all seasons.  "
    },
    {
      "metadata": {
        "_uuid": "deac14687eabad9a19d8653fe1960b5c89605aaf",
        "_cell_guid": "4ef003d8-516e-4911-9083-7ab22e5ae8ad",
        "trusted": false,
        "collapsed": true
      },
      "cell_type": "code",
      "source": "season_local_visitor = division1.groupby(['season', 'localTeam', 'visitorTeam'])[['localGoals', 'visitorGoals']].sum()\nseason_local_visitor.head()",
      "execution_count": null,
      "outputs": []
    },
    {
      "metadata": {
        "_uuid": "273607a423f0b70eb575d7e76d43668631ff73d7",
        "_cell_guid": "3e14f29c-a9cd-4043-beee-d7769b0210c5",
        "collapsed": true,
        "trusted": false
      },
      "cell_type": "code",
      "source": "",
      "execution_count": null,
      "outputs": []
    },
    {
      "metadata": {
        "_uuid": "e8adf0469b5caaecced5e38642b64dd82afb3470",
        "_cell_guid": "0e061e93-5183-498b-b84a-022d177b4582",
        "trusted": false,
        "collapsed": true
      },
      "cell_type": "code",
      "source": "season_local_visitor['difference'] = season_local_visitor['localGoals'] - season_local_visitor['visitorGoals']\nseason_local_visitor.head()",
      "execution_count": null,
      "outputs": []
    },
    {
      "metadata": {
        "_uuid": "0221fc6d8aab15d124492b668f858fa3e50124ba",
        "_cell_guid": "d3734bf5-0db9-4830-aa95-48c2c69109ff",
        "collapsed": true,
        "trusted": false
      },
      "cell_type": "code",
      "source": "",
      "execution_count": null,
      "outputs": []
    },
    {
      "metadata": {
        "_uuid": "a8f2f364bd439040c17887668346cd80af66272d",
        "_cell_guid": "a173a5c8-44c3-4c77-ac75-3a792b9ee142",
        "trusted": false,
        "collapsed": true
      },
      "cell_type": "code",
      "source": "# 1 for win, -1 for loss, 0 for draw (or tie)\nseason_local_visitor['localWin'] = season_local_visitor['difference'].apply(lambda x: 1 if x > 0 else (0 if x == 0 else -1))\nseason_local_visitor.reset_index(inplace = True)\nseason_local_visitor.head()",
      "execution_count": null,
      "outputs": []
    },
    {
      "metadata": {
        "_uuid": "c227f7b33d8d4495917b28e6e08004a314c705c4",
        "_cell_guid": "f25dbbcd-ba14-4ef1-b573-412f54f3eb87",
        "trusted": false,
        "collapsed": true
      },
      "cell_type": "code",
      "source": "seasonBefore1995 = seasons[0:list(season_local_visitor['season'].unique()).index('1994-95')+1]\nseasonBefore1995",
      "execution_count": null,
      "outputs": []
    },
    {
      "metadata": {
        "_uuid": "9e870eeacadcd591ddaae53bc718d431f6bc28a2",
        "_cell_guid": "6844ec8d-457b-40f4-ae53-8c021beec505",
        "collapsed": true,
        "trusted": false
      },
      "cell_type": "code",
      "source": "season_local_visitor['localPoints'] = season_local_visitor.apply(lambda x: 2 if (x['localWin'] == 1 and x['season'] in seasonBefore1995) \n                                                                 else (3 if (x['localWin'] == 1 and x['season'] not in seasonBefore1995)\n                                                                 else (1 if x['localWin'] == 0 else 0)), axis = 1)\n#season_local_visitor\nseason_local_visitor['visitorPoints'] = season_local_visitor.apply(lambda x: 2 if (x['localPoints'] == 0 and x['season'] in seasonBefore1995)\n                                                                   else (3 if (x['localPoints'] == 0 and x['season'] not in seasonBefore1995)\n                                                                   else (1 if x['localPoints'] == 1 else 0)), axis = 1)\nseason_local_visitor.head()\n# season_local_visitor.reset_index(inplace = True)\n# season_local_visitor.head(15)",
      "execution_count": null,
      "outputs": []
    },
    {
      "metadata": {
        "_uuid": "96d3c0c0e139db3361a0f7ada2d6d09466744d46",
        "_cell_guid": "b6024faa-1142-445d-b403-35c388bbbb75",
        "collapsed": true,
        "trusted": false
      },
      "cell_type": "code",
      "source": "total_localPoints = season_local_visitor.groupby(['season', 'localTeam'])[['localPoints']].sum()\ntotal_localPoints.head()",
      "execution_count": null,
      "outputs": []
    },
    {
      "metadata": {
        "_uuid": "663cf6f801197548293e9b74b22255e6a2990b64",
        "_cell_guid": "b18a33fb-2d02-4858-8660-45a04a168234",
        "collapsed": true,
        "trusted": false
      },
      "cell_type": "code",
      "source": "total_visitorPoints = season_local_visitor.groupby(['season', 'visitorTeam'])[['visitorPoints']].sum()\ntotal_visitorPoints.head()",
      "execution_count": null,
      "outputs": []
    },
    {
      "metadata": {
        "_uuid": "11803a2ecf0447bb6afd8c4af177250178489d51",
        "_cell_guid": "18558923-4ebc-4bc5-bfea-7e1ef8cfb380",
        "collapsed": true,
        "trusted": false
      },
      "cell_type": "code",
      "source": "total_points = pd.concat([total_localPoints, total_visitorPoints], axis = 1)\ntotal_points['totalPoints'] = total_points['localPoints'] + total_points['visitorPoints']\ntotal_points.head(21)",
      "execution_count": null,
      "outputs": []
    },
    {
      "metadata": {
        "_uuid": "079e31c43949cf03128b159c63abcc0c2d3b481b",
        "_cell_guid": "213d1de6-b709-4919-bc57-47bc07b2cbf5"
      },
      "cell_type": "markdown",
      "source": "We see that Barcelona and Valencia both had the same total points in season 1970-71. In cases such as this we need to refer to the two matches these two teams played against each others that season (each team plays twice with each other team: once as a home team and once as a visitor or an away team) and compare their total goals in these matches to break the tie (there are further rules if a tie remains, but we only use the first rule to break a tie, since it is less likely that two teams accumulate the same max total points, AND have the same number of total goals in their matches against each others). "
    },
    {
      "metadata": {
        "_uuid": "2ffcfb0f8c9a8ce03bf6ad990755fc348a0235a5",
        "_cell_guid": "e2164c50-022c-4100-8eb6-e22dad78ba77",
        "collapsed": true,
        "trusted": false
      },
      "cell_type": "code",
      "source": "max_df = pd.DataFrame(columns = ['Season', 'Max Total Points', 'Max Total Points Team'])\nfor season in seasons:\n    seasonSummary = pd.DataFrame(total_points.loc[season])\n    max_points = seasonSummary['totalPoints'].max()\n    max_points_team = seasonSummary['totalPoints'].idxmax()\n    max_points_ALL_teams = list(seasonSummary.loc[seasonSummary['totalPoints'] == max_points].index)#This returns a list of the teams that have the max points\n    if len(max_points_ALL_teams) == 2:#This conditional statement is to break a tie between two teams that have the same max number of points\n        #print(season, '\\n', max_points_ALL_teams[0: 2])\n        first_match = pd.DataFrame(season_local_visitor[(season_local_visitor['season'] == season) & \n                                   (season_local_visitor['localTeam'] == max_points_ALL_teams[0]) & \n                                   (season_local_visitor['visitorTeam'] == max_points_ALL_teams[1])\n                                  ])\n        second_match = pd.DataFrame(season_local_visitor[(season_local_visitor['season'] == season) & \n                                   (season_local_visitor['localTeam'] == max_points_ALL_teams[1]) & \n                                   (season_local_visitor['visitorTeam'] == max_points_ALL_teams[0])\n                                  ])\n        \n        first_second_matches = pd.concat([first_match, second_match])\n        if (first_second_matches[first_second_matches['localTeam'] == max_points_ALL_teams[0]]['difference'].item()>\n             first_second_matches[first_second_matches['localTeam'] == max_points_ALL_teams[1]]['difference'].item()):\n            max_points_team = max_points_ALL_teams[0]\n        else:\n            max_points_team = max_points_ALL_teams[1]\n        \n    max_df = max_df.append({'Season': season,\n                            'Max Total Points': max_points,\n                            'Max Total Points Team': max_points_team,\n                           }, \n                            ignore_index=True)",
      "execution_count": null,
      "outputs": []
    },
    {
      "metadata": {
        "_uuid": "0bb3cb5f0d36e3ac332004652a08a09da56e350c",
        "_cell_guid": "7f2c9f2b-714a-4eb5-b86c-22ebd0eaffff",
        "collapsed": true,
        "trusted": false
      },
      "cell_type": "code",
      "source": "max_df",
      "execution_count": null,
      "outputs": []
    },
    {
      "metadata": {
        "_uuid": "d1e3d49ed9bd67562f00fb6fe431634611d0bb39",
        "_cell_guid": "e5d5eafd-b84b-4892-8f99-d5ef6990e314"
      },
      "cell_type": "markdown",
      "source": "## The champions of each season and their total points:\nNow we have all the details to find the champions of the la liga division 1. "
    },
    {
      "metadata": {
        "_uuid": "b88782475a81f2285fa862f67179f27e8578ade8",
        "_cell_guid": "49c5f59c-a66d-4a4a-a937-f4dec34afa53",
        "collapsed": true,
        "trusted": false
      },
      "cell_type": "code",
      "source": "plt.figure(figsize = (20, 8))\nplt.xticks(rotation = 'vertical')\ng = sns.barplot(x = 'Season', y = 'Max Total Points', data = max_df)\nfor i, rect in enumerate(g.patches):\n    height = rect.get_height()\n    plt.text(rect.get_x() + rect.get_width()/2.0, height, '%d' % int(height), ha='center', va='bottom')\n    plt.text(rect.get_x() + rect.get_width()/2.0, len(max_df.loc[i, 'Max Total Points Team']), \n             max_df.loc[i, 'Max Total Points Team'], ha='center', va='bottom', rotation = 'vertical')",
      "execution_count": null,
      "outputs": []
    },
    {
      "metadata": {
        "_uuid": "0f20a08223f43a376d9aacaf1198c6f02ebd6f1b",
        "_cell_guid": "e24d6790-ff86-4030-be15-60cba3f032b1"
      },
      "cell_type": "markdown",
      "source": ""
    },
    {
      "metadata": {
        "_uuid": "4e5a1f867b62e0448d88b9490be8ba6ff44d023d",
        "_cell_guid": "c68fba92-f1b3-4876-958a-8a8c59341384"
      },
      "cell_type": "markdown",
      "source": "# Total number of winning the champion title:"
    },
    {
      "metadata": {
        "_uuid": "9d7dde3711ffd6ea0acb955e1457f0c4ddefca83",
        "_cell_guid": "e19a2ff9-fe68-40a0-a498-bee5677b0495",
        "collapsed": true,
        "trusted": false
      },
      "cell_type": "code",
      "source": "plt.figure(figsize = (10, 8))\nplt.xticks(rotation = 30)\nplt.yticks([0, 5, 10, 15, 20])\ng = sns.countplot(x = 'Max Total Points Team', data = max_df)\nfor rect in g.patches:\n    height = rect.get_height()\n    plt.text(rect.get_x() + rect.get_width()/2.0, height, '%d' % int(height), ha='center', va='bottom')",
      "execution_count": null,
      "outputs": []
    },
    {
      "metadata": {
        "_uuid": "d223f09ad1d4fb1dd237f913488786d167686690",
        "_cell_guid": "31a6a5b9-6fe7-427c-b1d8-f5d259c79790"
      },
      "cell_type": "markdown",
      "source": "As we said earlier, Real Madrid and Barcelona compete on the title most of the seasons. Since 1970-71 Real Madrid has won 19 times, while Barcelona has won the title 17 times (including this unfinished season, but if you watch the spanish La Liga, Barcelona looks in its way to win its next champion's title in La Liga)."
    },
    {
      "metadata": {
        "_uuid": "7683b7efb7bbb7fcef648af2155aae29d40e8828",
        "_cell_guid": "7dc58a73-cfe9-440a-9892-a0e251b52d5c"
      },
      "cell_type": "markdown",
      "source": "If you have any comment or suggestion about this work, I will be happy to hear it. Thanks for reading. "
    },
    {
      "metadata": {
        "_uuid": "0493fd54cbcb1f8998986c8356f72e15d83ee746",
        "_cell_guid": "c3b2f310-3acf-44b5-bb66-d3e05bc6d980",
        "collapsed": true,
        "trusted": false
      },
      "cell_type": "code",
      "source": "",
      "execution_count": null,
      "outputs": []
    }
  ],
  "metadata": {
    "kernelspec": {
      "display_name": "Python 3",
      "language": "python",
      "name": "python3"
    },
    "language_info": {
      "name": "python",
      "version": "3.6.4",
      "nbconvert_exporter": "python",
      "codemirror_mode": {
        "name": "ipython",
        "version": 3
      },
      "mimetype": "text/x-python",
      "file_extension": ".py",
      "pygments_lexer": "ipython3"
    }
  },
  "nbformat": 4,
  "nbformat_minor": 1
}