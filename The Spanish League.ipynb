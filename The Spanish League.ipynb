{
 "cells": [
  {
   "cell_type": "markdown",
   "metadata": {
    "_cell_guid": "5dffd10c-8bb9-4b26-83f7-083d827c87fb",
    "_uuid": "dafc946df1d0198cfaae0e46de81acff114c6fa7"
   },
   "source": [
    "# The Spanish League: Exploratory Data Analysis\n",
    "In this notebook, we will analyze the data about the Spanish League for the seasons from 1970-71 until 2017-18 (although the data for the last season is not yet complete, because this season is still in progress).\n",
    "## Import the libraries:"
   ]
  },
  {
   "cell_type": "code",
   "execution_count": 6,
   "metadata": {
    "_cell_guid": "b1076dfc-b9ad-4769-8c92-a6c4dae69d19",
    "_uuid": "8f2839f25d086af736a60e9eeb907d3b93b6e0e5"
   },
   "outputs": [],
   "source": [
    "# This Python 3 environment comes with many helpful analytics libraries installed\n",
    "# It is defined by the kaggle/python docker image: https://github.com/kaggle/docker-python\n",
    "# For example, here's several helpful packages to load in \n",
    "\n",
    "import numpy as np # linear algebra\n",
    "import pandas as pd # data processing, CSV file I/O (e.g. pd.read_csv)\n",
    "\n",
    "# Input data files are available in the \"../input/\" directory.\n",
    "# For example, running this (by clicking run or pressing Shift+Enter) will list the files in the input directory\n",
    "\n",
    "# import os\n",
    "# print(os.listdir(\"../input\"))\n",
    "\n",
    "# Any results you write to the current directory are saved as output."
   ]
  },
  {
   "cell_type": "markdown",
   "metadata": {
    "_cell_guid": "c738b7a1-da9a-4559-a99a-bf2e96110780",
    "_uuid": "2cb3d8cddb222e53778b828c323ea7b3e2da0876"
   },
   "source": [
    "## Read the input file:"
   ]
  },
  {
   "cell_type": "code",
   "execution_count": 7,
   "metadata": {
    "_cell_guid": "79c7e3d0-c299-4dcb-8224-4455121ee9b0",
    "_uuid": "d629ff2d2480ee46fbb7e2d37f6b5fab8052498a"
   },
   "outputs": [],
   "source": [
    "matches = pd.read_csv(\"FMEL_Dataset.csv\")"
   ]
  },
  {
   "cell_type": "markdown",
   "metadata": {
    "_cell_guid": "b9fbc766-18ec-45e8-a5f6-2d2b3a28283b",
    "_uuid": "e98188a35352f923d2f2e52b5dd02f7169b6d970"
   },
   "source": [
    "## Check the head of the dataframe:"
   ]
  },
  {
   "cell_type": "code",
   "execution_count": 8,
   "metadata": {
    "_cell_guid": "752f6902-9252-4a52-9b65-64c747c7575a",
    "_uuid": "8dcc6ab23f8412270caec241d2a213a41562bb17"
   },
   "outputs": [
    {
     "name": "stdout",
     "output_type": "stream",
     "text": [
      "   id   season  division  round      localTeam         visitorTeam  \\\n",
      "0   1  1970-71         1      1  Athletic Club           Barcelona   \n",
      "1   2  1970-71         1      1     Las Palmas  Atletico de Madrid   \n",
      "2   3  1970-71         1      1    Real Madrid            Valencia   \n",
      "3   4  1970-71         1      1  Celta de Vigo   Sporting de Gijon   \n",
      "4   5  1970-71         1      1          Elche             Granada   \n",
      "\n",
      "   localGoals  visitorGoals        date  timestamp  \n",
      "0           1             1  12/09/1970   21938400  \n",
      "1           1             1  12/09/1970   21938400  \n",
      "2           2             0  12/09/1970   21938400  \n",
      "3           2             0  13/09/1970   22024800  \n",
      "4           1             1  13/09/1970   22024800  \n"
     ]
    }
   ],
   "source": [
    "print(matches.head())"
   ]
  },
  {
   "cell_type": "markdown",
   "metadata": {
    "_cell_guid": "75a55f37-7ddd-4105-9fa5-b9c50400eb2b",
    "_uuid": "418b91414ef3ca7838af7e64d08e8bf2e45edba9"
   },
   "source": [
    "## Check for missing values:"
   ]
  },
  {
   "cell_type": "code",
   "execution_count": 9,
   "metadata": {
    "_cell_guid": "03affacc-8922-4a66-adfd-9e69ac27031e",
    "_uuid": "19aa14602e24e109f969f9a868d83ebacb51e355"
   },
   "outputs": [
    {
     "data": {
      "text/plain": [
       "id              0\n",
       "season          0\n",
       "division        0\n",
       "round           0\n",
       "localTeam       0\n",
       "visitorTeam     0\n",
       "localGoals      0\n",
       "visitorGoals    0\n",
       "date            0\n",
       "timestamp       0\n",
       "dtype: int64"
      ]
     },
     "execution_count": 9,
     "metadata": {},
     "output_type": "execute_result"
    }
   ],
   "source": [
    "matches.isnull().sum()"
   ]
  },
  {
   "cell_type": "markdown",
   "metadata": {
    "_cell_guid": "05200762-d6b2-4931-b363-af99f05a2cc3",
    "_uuid": "3708415d3bb9b15f954cbc4aa060b5fb0b9fd209"
   },
   "source": [
    "## Check the summary of the dataframe:"
   ]
  },
  {
   "cell_type": "code",
   "execution_count": 10,
   "metadata": {
    "_cell_guid": "8ecd0c78-02bf-45c9-b6b1-165e54c201b5",
    "_uuid": "0d3ec02d0c2d1311b3845dcbd4ec0829ad4c0862"
   },
   "outputs": [
    {
     "name": "stdout",
     "output_type": "stream",
     "text": [
      "<class 'pandas.core.frame.DataFrame'>\n",
      "RangeIndex: 36652 entries, 0 to 36651\n",
      "Data columns (total 10 columns):\n",
      "id              36652 non-null int64\n",
      "season          36652 non-null object\n",
      "division        36652 non-null int64\n",
      "round           36652 non-null int64\n",
      "localTeam       36652 non-null object\n",
      "visitorTeam     36652 non-null object\n",
      "localGoals      36652 non-null int64\n",
      "visitorGoals    36652 non-null int64\n",
      "date            36652 non-null object\n",
      "timestamp       36652 non-null int64\n",
      "dtypes: int64(6), object(4)\n",
      "memory usage: 2.8+ MB\n"
     ]
    }
   ],
   "source": [
    "matches.info()"
   ]
  },
  {
   "cell_type": "markdown",
   "metadata": {
    "_cell_guid": "68d8bce8-095d-4f8b-aaa2-fe2bf9f6737b",
    "_uuid": "05312207d4868570ed74b0b2fc4b279ab683bc11"
   },
   "source": [
    "We see that we have 36652 observations and 10 features. Next we will focus on division 1 only."
   ]
  },
  {
   "cell_type": "code",
   "execution_count": 11,
   "metadata": {
    "_cell_guid": "3c238959-ed9f-4bdc-a2a3-eeb0c2850880",
    "_uuid": "6d67bb3498e2d5faa425b46165021b4d8794a0a6"
   },
   "outputs": [
    {
     "name": "stderr",
     "output_type": "stream",
     "text": [
      "C:\\Anacoda\\lib\\site-packages\\ipykernel_launcher.py:2: SettingWithCopyWarning: \n",
      "A value is trying to be set on a copy of a slice from a DataFrame\n",
      "\n",
      "See the caveats in the documentation: http://pandas.pydata.org/pandas-docs/stable/indexing.html#indexing-view-versus-copy\n",
      "  \n"
     ]
    },
    {
     "data": {
      "text/html": [
       "<div>\n",
       "<style>\n",
       "    .dataframe thead tr:only-child th {\n",
       "        text-align: right;\n",
       "    }\n",
       "\n",
       "    .dataframe thead th {\n",
       "        text-align: left;\n",
       "    }\n",
       "\n",
       "    .dataframe tbody tr th {\n",
       "        vertical-align: top;\n",
       "    }\n",
       "</style>\n",
       "<table border=\"1\" class=\"dataframe\">\n",
       "  <thead>\n",
       "    <tr style=\"text-align: right;\">\n",
       "      <th></th>\n",
       "      <th>id</th>\n",
       "      <th>season</th>\n",
       "      <th>round</th>\n",
       "      <th>localTeam</th>\n",
       "      <th>visitorTeam</th>\n",
       "      <th>localGoals</th>\n",
       "      <th>visitorGoals</th>\n",
       "      <th>date</th>\n",
       "      <th>timestamp</th>\n",
       "    </tr>\n",
       "  </thead>\n",
       "  <tbody>\n",
       "    <tr>\n",
       "      <th>0</th>\n",
       "      <td>1</td>\n",
       "      <td>1970-71</td>\n",
       "      <td>1</td>\n",
       "      <td>Athletic Club</td>\n",
       "      <td>Barcelona</td>\n",
       "      <td>1</td>\n",
       "      <td>1</td>\n",
       "      <td>12/09/1970</td>\n",
       "      <td>21938400</td>\n",
       "    </tr>\n",
       "    <tr>\n",
       "      <th>1</th>\n",
       "      <td>2</td>\n",
       "      <td>1970-71</td>\n",
       "      <td>1</td>\n",
       "      <td>Las Palmas</td>\n",
       "      <td>Atletico de Madrid</td>\n",
       "      <td>1</td>\n",
       "      <td>1</td>\n",
       "      <td>12/09/1970</td>\n",
       "      <td>21938400</td>\n",
       "    </tr>\n",
       "    <tr>\n",
       "      <th>2</th>\n",
       "      <td>3</td>\n",
       "      <td>1970-71</td>\n",
       "      <td>1</td>\n",
       "      <td>Real Madrid</td>\n",
       "      <td>Valencia</td>\n",
       "      <td>2</td>\n",
       "      <td>0</td>\n",
       "      <td>12/09/1970</td>\n",
       "      <td>21938400</td>\n",
       "    </tr>\n",
       "    <tr>\n",
       "      <th>3</th>\n",
       "      <td>4</td>\n",
       "      <td>1970-71</td>\n",
       "      <td>1</td>\n",
       "      <td>Celta de Vigo</td>\n",
       "      <td>Sporting de Gijon</td>\n",
       "      <td>2</td>\n",
       "      <td>0</td>\n",
       "      <td>13/09/1970</td>\n",
       "      <td>22024800</td>\n",
       "    </tr>\n",
       "    <tr>\n",
       "      <th>4</th>\n",
       "      <td>5</td>\n",
       "      <td>1970-71</td>\n",
       "      <td>1</td>\n",
       "      <td>Elche</td>\n",
       "      <td>Granada</td>\n",
       "      <td>1</td>\n",
       "      <td>1</td>\n",
       "      <td>13/09/1970</td>\n",
       "      <td>22024800</td>\n",
       "    </tr>\n",
       "  </tbody>\n",
       "</table>\n",
       "</div>"
      ],
      "text/plain": [
       "   id   season  round      localTeam         visitorTeam  localGoals  \\\n",
       "0   1  1970-71      1  Athletic Club           Barcelona           1   \n",
       "1   2  1970-71      1     Las Palmas  Atletico de Madrid           1   \n",
       "2   3  1970-71      1    Real Madrid            Valencia           2   \n",
       "3   4  1970-71      1  Celta de Vigo   Sporting de Gijon           2   \n",
       "4   5  1970-71      1          Elche             Granada           1   \n",
       "\n",
       "   visitorGoals        date  timestamp  \n",
       "0             1  12/09/1970   21938400  \n",
       "1             1  12/09/1970   21938400  \n",
       "2             0  12/09/1970   21938400  \n",
       "3             0  13/09/1970   22024800  \n",
       "4             1  13/09/1970   22024800  "
      ]
     },
     "execution_count": 11,
     "metadata": {},
     "output_type": "execute_result"
    }
   ],
   "source": [
    "division1 = matches[matches['division'] == 1]\n",
    "division1.drop('division', axis = 1, inplace = True)\n",
    "division1.head()"
   ]
  },
  {
   "cell_type": "code",
   "execution_count": 12,
   "metadata": {
    "_cell_guid": "4401e8eb-68a5-42ae-98ea-004a8ef6d6a9",
    "_uuid": "b40d736d57daf32f8f50d5a7220487fe525cd05f"
   },
   "outputs": [],
   "source": [
    "import seaborn as sns\n",
    "import matplotlib.pyplot as plt\n",
    "%matplotlib inline"
   ]
  },
  {
   "cell_type": "markdown",
   "metadata": {
    "_cell_guid": "330dcdf2-b081-43d4-a5d4-a4f33743a6e0",
    "_uuid": "7cd1700030d90794847e0c61befc114caf913ed3"
   },
   "source": [
    "## Compare the total number of local goals vs. total number of visitor goals in each season:"
   ]
  },
  {
   "cell_type": "code",
   "execution_count": 13,
   "metadata": {
    "_cell_guid": "be2e0eea-9d5b-4762-bded-72f7790b3801",
    "_uuid": "5ae4b3a87af5d6f36f907dee4e55a8a8d0f8191e"
   },
   "outputs": [
    {
     "data": {
      "text/html": [
       "<div>\n",
       "<style>\n",
       "    .dataframe thead tr:only-child th {\n",
       "        text-align: right;\n",
       "    }\n",
       "\n",
       "    .dataframe thead th {\n",
       "        text-align: left;\n",
       "    }\n",
       "\n",
       "    .dataframe tbody tr th {\n",
       "        vertical-align: top;\n",
       "    }\n",
       "</style>\n",
       "<table border=\"1\" class=\"dataframe\">\n",
       "  <thead>\n",
       "    <tr style=\"text-align: right;\">\n",
       "      <th></th>\n",
       "      <th>season</th>\n",
       "      <th>localGoals</th>\n",
       "      <th>visitorGoals</th>\n",
       "    </tr>\n",
       "  </thead>\n",
       "  <tbody>\n",
       "    <tr>\n",
       "      <th>0</th>\n",
       "      <td>1970-71</td>\n",
       "      <td>372</td>\n",
       "      <td>171</td>\n",
       "    </tr>\n",
       "    <tr>\n",
       "      <th>1</th>\n",
       "      <td>1971-72</td>\n",
       "      <td>471</td>\n",
       "      <td>204</td>\n",
       "    </tr>\n",
       "    <tr>\n",
       "      <th>2</th>\n",
       "      <td>1972-73</td>\n",
       "      <td>454</td>\n",
       "      <td>202</td>\n",
       "    </tr>\n",
       "    <tr>\n",
       "      <th>3</th>\n",
       "      <td>1973-74</td>\n",
       "      <td>499</td>\n",
       "      <td>211</td>\n",
       "    </tr>\n",
       "    <tr>\n",
       "      <th>4</th>\n",
       "      <td>1974-75</td>\n",
       "      <td>530</td>\n",
       "      <td>215</td>\n",
       "    </tr>\n",
       "  </tbody>\n",
       "</table>\n",
       "</div>"
      ],
      "text/plain": [
       "    season  localGoals  visitorGoals\n",
       "0  1970-71         372           171\n",
       "1  1971-72         471           204\n",
       "2  1972-73         454           202\n",
       "3  1973-74         499           211\n",
       "4  1974-75         530           215"
      ]
     },
     "execution_count": 13,
     "metadata": {},
     "output_type": "execute_result"
    }
   ],
   "source": [
    "local_visitor_goals = division1.groupby('season')[['localGoals', 'visitorGoals']].sum()\n",
    "local_visitor_goals.reset_index(inplace = True)\n",
    "local_visitor_goals.head()"
   ]
  },
  {
   "cell_type": "code",
   "execution_count": 14,
   "metadata": {
    "_cell_guid": "4168426f-ca3a-4fd3-82ea-f8f39f1dac5c",
    "_uuid": "5bc1947c4cd0b27e9b01d31465910f6df429f7dd"
   },
   "outputs": [
    {
     "data": {
      "text/plain": [
       "<matplotlib.legend.Legend at 0xc5b6f28>"
      ]
     },
     "execution_count": 14,
     "metadata": {},
     "output_type": "execute_result"
    },
    {
     "data": {
      "image/png": "[encoded data removed]",
      "text/plain": [
       "<matplotlib.figure.Figure at 0xc448ac8>"
      ]
     },
     "metadata": {},
     "output_type": "display_data"
    }
   ],
   "source": [
    "plt.figure(figsize=(20, 12))\n",
    "plt.xticks(rotation='vertical')\n",
    "sns.set_color_codes(\"pastel\")\n",
    "g1 = sns.barplot(x = 'season', y = 'localGoals', data = local_visitor_goals, label = \"Local\", color = 'b')\n",
    "sns.set_color_codes(\"muted\")\n",
    "g2 = sns.barplot(x = 'season', y = 'visitorGoals', data = local_visitor_goals, label = \"Visitor\", color = 'b')\n",
    "\n",
    "for rect in g1.patches:\n",
    "    height = rect.get_height()\n",
    "    plt.text(rect.get_x() + rect.get_width()/2.0, height, '%d' % int(height), ha='center', va='bottom')\n",
    "\n",
    "    \n",
    "plt.ylabel(\"\")\n",
    "plt.xlabel(\"Total number of goals\")\n",
    "plt.legend()"
   ]
  },
  {
   "cell_type": "markdown",
   "metadata": {
    "_cell_guid": "2f140673-0f54-4913-8db5-e9abe00b5432",
    "_uuid": "f96bf3560e30c63e9c9dad2f19ba4da4e6b02574"
   },
   "source": [
    "It is evident that the total number of goals that were scored by the local teams is greater than the total number of goals scored by the visitor teams for every single season. This is to be expected, since local teams play on their own stadium and between their own supporters, which play an important psychological role. "
   ]
  },
  {
   "cell_type": "markdown",
   "metadata": {
    "_cell_guid": "13bb4d9f-1bdd-445e-927c-b0e50163831e",
    "_uuid": "7ba1da86007ad6031f2dab9f685c562a97353c86"
   },
   "source": [
    "## The total number of local goals for each team in all seasons:"
   ]
  },
  {
   "cell_type": "code",
   "execution_count": 15,
   "metadata": {
    "_cell_guid": "b75badcb-7cf0-4ef5-8d65-5ff90e54de5d",
    "_uuid": "f52c064f6756a7e7b9931fd17ab1eaaec9f946e1"
   },
   "outputs": [
    {
     "data": {
      "text/html": [
       "<div>\n",
       "<style>\n",
       "    .dataframe thead tr:only-child th {\n",
       "        text-align: right;\n",
       "    }\n",
       "\n",
       "    .dataframe thead th {\n",
       "        text-align: left;\n",
       "    }\n",
       "\n",
       "    .dataframe tbody tr th {\n",
       "        vertical-align: top;\n",
       "    }\n",
       "</style>\n",
       "<table border=\"1\" class=\"dataframe\">\n",
       "  <thead>\n",
       "    <tr style=\"text-align: right;\">\n",
       "      <th></th>\n",
       "      <th>localGoals</th>\n",
       "    </tr>\n",
       "    <tr>\n",
       "      <th>localTeam</th>\n",
       "      <th></th>\n",
       "    </tr>\n",
       "  </thead>\n",
       "  <tbody>\n",
       "    <tr>\n",
       "      <th>AD Almeria</th>\n",
       "      <td>50</td>\n",
       "    </tr>\n",
       "    <tr>\n",
       "      <th>Alaves</th>\n",
       "      <td>167</td>\n",
       "    </tr>\n",
       "    <tr>\n",
       "      <th>Albacete</th>\n",
       "      <td>194</td>\n",
       "    </tr>\n",
       "    <tr>\n",
       "      <th>Almeria</th>\n",
       "      <td>139</td>\n",
       "    </tr>\n",
       "    <tr>\n",
       "      <th>Athletic Club</th>\n",
       "      <td>1505</td>\n",
       "    </tr>\n",
       "  </tbody>\n",
       "</table>\n",
       "</div>"
      ],
      "text/plain": [
       "               localGoals\n",
       "localTeam                \n",
       "AD Almeria             50\n",
       "Alaves                167\n",
       "Albacete              194\n",
       "Almeria               139\n",
       "Athletic Club        1505"
      ]
     },
     "execution_count": 15,
     "metadata": {},
     "output_type": "execute_result"
    }
   ],
   "source": [
    "local_team = division1.groupby('localTeam')['localGoals'].sum()\n",
    "local_team = pd.DataFrame(local_team)\n",
    "local_team.head()"
   ]
  },
  {
   "cell_type": "code",
   "execution_count": 16,
   "metadata": {
    "_cell_guid": "3ccc179a-3b14-4145-90e9-41bba0555946",
    "_uuid": "ba04a0df071fd0b6747f53a0fdb1db24fe9094c7"
   },
   "outputs": [
    {
     "data": {
      "image/png": "[encoded data removed]",
      "text/plain": [
       "<matplotlib.figure.Figure at 0xc720eb8>"
      ]
     },
     "metadata": {},
     "output_type": "display_data"
    }
   ],
   "source": [
    "plt.figure(figsize=(12, 12))\n",
    "plt.xticks(rotation='vertical')\n",
    "g = sns.barplot(x = 'localTeam', y = 'localGoals', data = local_team.sort_values('localGoals').reset_index())\n",
    "plt.title(\"Total Local Goals\")\n",
    "for rect in g.patches:\n",
    "    height = rect.get_height()\n",
    "    plt.text(rect.get_x() + rect.get_width()/2.0, height + 20, '%d' % int(height), ha='center', va='bottom', rotation = 'vertical')"
   ]
  },
  {
   "cell_type": "markdown",
   "metadata": {
    "_cell_guid": "bdb6e635-3e35-4473-82e1-521883cf45cf",
    "_uuid": "e90bd30213a7aa5e9e32c4ea466faae544b5c056"
   },
   "source": [
    "We see that Barcelona and Real Madrid both have scored the same maximum number of local goals in all seasons, which is 2200, followed by Altlico de Madrid with 1579."
   ]
  },
  {
   "cell_type": "markdown",
   "metadata": {
    "_cell_guid": "83b05668-28d2-4a4d-a4cd-de08854ffd26",
    "_uuid": "fea12187bc95d889eaf85d7a81d9a09807fd912a"
   },
   "source": [
    "## The total number of visitor goals for each team in all seasons:"
   ]
  },
  {
   "cell_type": "code",
   "execution_count": 17,
   "metadata": {
    "_cell_guid": "4ad3cd8b-7b2d-4f85-8594-fc4d33e50153",
    "_uuid": "d076539cdecd3a5da536adc44bc1d45eb4a9ead4"
   },
   "outputs": [
    {
     "data": {
      "text/html": [
       "<div>\n",
       "<style>\n",
       "    .dataframe thead tr:only-child th {\n",
       "        text-align: right;\n",
       "    }\n",
       "\n",
       "    .dataframe thead th {\n",
       "        text-align: left;\n",
       "    }\n",
       "\n",
       "    .dataframe tbody tr th {\n",
       "        vertical-align: top;\n",
       "    }\n",
       "</style>\n",
       "<table border=\"1\" class=\"dataframe\">\n",
       "  <thead>\n",
       "    <tr style=\"text-align: right;\">\n",
       "      <th></th>\n",
       "      <th>visitorGoals</th>\n",
       "    </tr>\n",
       "    <tr>\n",
       "      <th>visitorTeam</th>\n",
       "      <th></th>\n",
       "    </tr>\n",
       "  </thead>\n",
       "  <tbody>\n",
       "    <tr>\n",
       "      <th>AD Almeria</th>\n",
       "      <td>21</td>\n",
       "    </tr>\n",
       "    <tr>\n",
       "      <th>Alaves</th>\n",
       "      <td>135</td>\n",
       "    </tr>\n",
       "    <tr>\n",
       "      <th>Albacete</th>\n",
       "      <td>126</td>\n",
       "    </tr>\n",
       "    <tr>\n",
       "      <th>Almeria</th>\n",
       "      <td>105</td>\n",
       "    </tr>\n",
       "    <tr>\n",
       "      <th>Athletic Club</th>\n",
       "      <td>856</td>\n",
       "    </tr>\n",
       "  </tbody>\n",
       "</table>\n",
       "</div>"
      ],
      "text/plain": [
       "               visitorGoals\n",
       "visitorTeam                \n",
       "AD Almeria               21\n",
       "Alaves                  135\n",
       "Albacete                126\n",
       "Almeria                 105\n",
       "Athletic Club           856"
      ]
     },
     "execution_count": 17,
     "metadata": {},
     "output_type": "execute_result"
    }
   ],
   "source": [
    "visitor_team = division1.groupby('visitorTeam')['visitorGoals'].sum()\n",
    "visitor_team = pd.DataFrame(visitor_team)\n",
    "visitor_team.head()"
   ]
  },
  {
   "cell_type": "code",
   "execution_count": 18,
   "metadata": {
    "_cell_guid": "2a6aeddd-0b32-4a31-920c-a9e737f76e82",
    "_uuid": "15aaa7e12663dfc8f392c4d0832b6f3940b19183"
   },
   "outputs": [
    {
     "data": {
      "image/png": "[encoded data removed]",
      "text/plain": [
       "<matplotlib.figure.Figure at 0xcc1f860>"
      ]
     },
     "metadata": {},
     "output_type": "display_data"
    }
   ],
   "source": [
    "plt.figure(figsize=(12, 12))\n",
    "plt.xticks(rotation='vertical')\n",
    "g = sns.barplot(x = 'visitorTeam', y = 'visitorGoals', data = visitor_team.sort_values('visitorGoals').reset_index())\n",
    "plt.title(\"Total Visitor Goals\")\n",
    "for rect in g.patches:\n",
    "    height = rect.get_height()\n",
    "    plt.text(rect.get_x() + rect.get_width()/2.0, height + 20, '%d' % int(height), ha='center', va='bottom', rotation = 'vertical')"
   ]
  },
  {
   "cell_type": "markdown",
   "metadata": {
    "_cell_guid": "7051f1b5-2740-4b25-91b1-3f0f6d70f7c6",
    "_uuid": "7a30310becf2a78366347cf54e99de271c51715f"
   },
   "source": [
    "Barcelona beats Real Madrid by one goal in the total number of visitor goals in all seasons for this data. It is no coincidence we have comparable results for these two teams, since they (Barcelona and Real Madrid) are the strongest two teams in the Spanish League division 1, and they compete on the title most of the seasons (as we will see next)."
   ]
  },
  {
   "cell_type": "code",
   "execution_count": 19,
   "metadata": {
    "_cell_guid": "d1029cf2-9780-4888-9c53-a8c00e21653e",
    "_uuid": "c5e15c9448268269d2b8fc72e23658f68432df84"
   },
   "outputs": [],
   "source": [
    "seasons = list(division1['season'].unique())"
   ]
  },
  {
   "cell_type": "code",
   "execution_count": 20,
   "metadata": {
    "_cell_guid": "bb7fd77e-f47f-4bca-96b1-482b53131560",
    "_uuid": "0106ea014d755fb493a1ff66b7ef955cd4ad415d"
   },
   "outputs": [],
   "source": [
    "teams = list(division1['localTeam'].unique())"
   ]
  },
  {
   "cell_type": "markdown",
   "metadata": {
    "_cell_guid": "58105b9c-3a87-45bb-b403-a73159df8065",
    "_uuid": "16a70365aed121f69003dd93e491b10df4b701d5"
   },
   "source": [
    "## Calculate the points for each match:\n",
    "Next we will extract more information from the data provided using the local and visitor goals for each match. An important point in this regard is that the 3-1-0 point system was adopted in spain in 1995. Before that it was 2-1-0 (for win-draw-loss). Another important point is that when two teams have the same max number of total points after the final game, the tie is broken by comparing the total goals of each team in the matches where they played agaisnt each others. The following is just an implemenation of these two simple rules to calculate the total points of each team in all seasons.  "
   ]
  },
  {
   "cell_type": "code",
   "execution_count": 21,
   "metadata": {
    "_cell_guid": "4ef003d8-516e-4911-9083-7ab22e5ae8ad",
    "_uuid": "deac14687eabad9a19d8653fe1960b5c89605aaf"
   },
   "outputs": [
    {
     "data": {
      "text/html": [
       "<div>\n",
       "<style>\n",
       "    .dataframe thead tr:only-child th {\n",
       "        text-align: right;\n",
       "    }\n",
       "\n",
       "    .dataframe thead th {\n",
       "        text-align: left;\n",
       "    }\n",
       "\n",
       "    .dataframe tbody tr th {\n",
       "        vertical-align: top;\n",
       "    }\n",
       "</style>\n",
       "<table border=\"1\" class=\"dataframe\">\n",
       "  <thead>\n",
       "    <tr style=\"text-align: right;\">\n",
       "      <th></th>\n",
       "      <th></th>\n",
       "      <th></th>\n",
       "      <th>localGoals</th>\n",
       "      <th>visitorGoals</th>\n",
       "    </tr>\n",
       "    <tr>\n",
       "      <th>season</th>\n",
       "      <th>localTeam</th>\n",
       "      <th>visitorTeam</th>\n",
       "      <th></th>\n",
       "      <th></th>\n",
       "    </tr>\n",
       "  </thead>\n",
       "  <tbody>\n",
       "    <tr>\n",
       "      <th rowspan=\"5\" valign=\"top\">1970-71</th>\n",
       "      <th rowspan=\"5\" valign=\"top\">Athletic Club</th>\n",
       "      <th>Atletico de Madrid</th>\n",
       "      <td>1</td>\n",
       "      <td>0</td>\n",
       "    </tr>\n",
       "    <tr>\n",
       "      <th>Barcelona</th>\n",
       "      <td>1</td>\n",
       "      <td>1</td>\n",
       "    </tr>\n",
       "    <tr>\n",
       "      <th>CD Malaga</th>\n",
       "      <td>2</td>\n",
       "      <td>1</td>\n",
       "    </tr>\n",
       "    <tr>\n",
       "      <th>Celta de Vigo</th>\n",
       "      <td>2</td>\n",
       "      <td>0</td>\n",
       "    </tr>\n",
       "    <tr>\n",
       "      <th>Elche</th>\n",
       "      <td>2</td>\n",
       "      <td>0</td>\n",
       "    </tr>\n",
       "  </tbody>\n",
       "</table>\n",
       "</div>"
      ],
      "text/plain": [
       "                                          localGoals  visitorGoals\n",
       "season  localTeam     visitorTeam                                 \n",
       "1970-71 Athletic Club Atletico de Madrid           1             0\n",
       "                      Barcelona                    1             1\n",
       "                      CD Malaga                    2             1\n",
       "                      Celta de Vigo                2             0\n",
       "                      Elche                        2             0"
      ]
     },
     "execution_count": 21,
     "metadata": {},
     "output_type": "execute_result"
    }
   ],
   "source": [
    "season_local_visitor = division1.groupby(['season', 'localTeam', 'visitorTeam'])[['localGoals', 'visitorGoals']].sum()\n",
    "season_local_visitor.head()"
   ]
  },
  {
   "cell_type": "code",
   "execution_count": null,
   "metadata": {
    "_cell_guid": "3e14f29c-a9cd-4043-beee-d7769b0210c5",
    "_uuid": "273607a423f0b70eb575d7e76d43668631ff73d7"
   },
   "outputs": [],
   "source": []
  },
  {
   "cell_type": "code",
   "execution_count": 22,
   "metadata": {
    "_cell_guid": "0e061e93-5183-498b-b84a-022d177b4582",
    "_uuid": "e8adf0469b5caaecced5e38642b64dd82afb3470"
   },
   "outputs": [
    {
     "data": {
      "text/html": [
       "<div>\n",
       "<style>\n",
       "    .dataframe thead tr:only-child th {\n",
       "        text-align: right;\n",
       "    }\n",
       "\n",
       "    .dataframe thead th {\n",
       "        text-align: left;\n",
       "    }\n",
       "\n",
       "    .dataframe tbody tr th {\n",
       "        vertical-align: top;\n",
       "    }\n",
       "</style>\n",
       "<table border=\"1\" class=\"dataframe\">\n",
       "  <thead>\n",
       "    <tr style=\"text-align: right;\">\n",
       "      <th></th>\n",
       "      <th></th>\n",
       "      <th></th>\n",
       "      <th>localGoals</th>\n",
       "      <th>visitorGoals</th>\n",
       "      <th>difference</th>\n",
       "    </tr>\n",
       "    <tr>\n",
       "      <th>season</th>\n",
       "      <th>localTeam</th>\n",
       "      <th>visitorTeam</th>\n",
       "      <th></th>\n",
       "      <th></th>\n",
       "      <th></th>\n",
       "    </tr>\n",
       "  </thead>\n",
       "  <tbody>\n",
       "    <tr>\n",
       "      <th rowspan=\"5\" valign=\"top\">1970-71</th>\n",
       "      <th rowspan=\"5\" valign=\"top\">Athletic Club</th>\n",
       "      <th>Atletico de Madrid</th>\n",
       "      <td>1</td>\n",
       "      <td>0</td>\n",
       "      <td>1</td>\n",
       "    </tr>\n",
       "    <tr>\n",
       "      <th>Barcelona</th>\n",
       "      <td>1</td>\n",
       "      <td>1</td>\n",
       "      <td>0</td>\n",
       "    </tr>\n",
       "    <tr>\n",
       "      <th>CD Malaga</th>\n",
       "      <td>2</td>\n",
       "      <td>1</td>\n",
       "      <td>1</td>\n",
       "    </tr>\n",
       "    <tr>\n",
       "      <th>Celta de Vigo</th>\n",
       "      <td>2</td>\n",
       "      <td>0</td>\n",
       "      <td>2</td>\n",
       "    </tr>\n",
       "    <tr>\n",
       "      <th>Elche</th>\n",
       "      <td>2</td>\n",
       "      <td>0</td>\n",
       "      <td>2</td>\n",
       "    </tr>\n",
       "  </tbody>\n",
       "</table>\n",
       "</div>"
      ],
      "text/plain": [
       "                                          localGoals  visitorGoals  difference\n",
       "season  localTeam     visitorTeam                                             \n",
       "1970-71 Athletic Club Atletico de Madrid           1             0           1\n",
       "                      Barcelona                    1             1           0\n",
       "                      CD Malaga                    2             1           1\n",
       "                      Celta de Vigo                2             0           2\n",
       "                      Elche                        2             0           2"
      ]
     },
     "execution_count": 22,
     "metadata": {},
     "output_type": "execute_result"
    }
   ],
   "source": [
    "season_local_visitor['difference'] = season_local_visitor['localGoals'] - season_local_visitor['visitorGoals']\n",
    "season_local_visitor.head()"
   ]
  },
  {
   "cell_type": "code",
   "execution_count": null,
   "metadata": {
    "_cell_guid": "d3734bf5-0db9-4830-aa95-48c2c69109ff",
    "_uuid": "0221fc6d8aab15d124492b668f858fa3e50124ba"
   },
   "outputs": [],
   "source": []
  },
  {
   "cell_type": "code",
   "execution_count": 23,
   "metadata": {
    "_cell_guid": "a173a5c8-44c3-4c77-ac75-3a792b9ee142",
    "_uuid": "a8f2f364bd439040c17887668346cd80af66272d"
   },
   "outputs": [
    {
     "data": {
      "text/html": [
       "<div>\n",
       "<style>\n",
       "    .dataframe thead tr:only-child th {\n",
       "        text-align: right;\n",
       "    }\n",
       "\n",
       "    .dataframe thead th {\n",
       "        text-align: left;\n",
       "    }\n",
       "\n",
       "    .dataframe tbody tr th {\n",
       "        vertical-align: top;\n",
       "    }\n",
       "</style>\n",
       "<table border=\"1\" class=\"dataframe\">\n",
       "  <thead>\n",
       "    <tr style=\"text-align: right;\">\n",
       "      <th></th>\n",
       "      <th>season</th>\n",
       "      <th>localTeam</th>\n",
       "      <th>visitorTeam</th>\n",
       "      <th>localGoals</th>\n",
       "      <th>visitorGoals</th>\n",
       "      <th>difference</th>\n",
       "      <th>localWin</th>\n",
       "    </tr>\n",
       "  </thead>\n",
       "  <tbody>\n",
       "    <tr>\n",
       "      <th>0</th>\n",
       "      <td>1970-71</td>\n",
       "      <td>Athletic Club</td>\n",
       "      <td>Atletico de Madrid</td>\n",
       "      <td>1</td>\n",
       "      <td>0</td>\n",
       "      <td>1</td>\n",
       "      <td>1</td>\n",
       "    </tr>\n",
       "    <tr>\n",
       "      <th>1</th>\n",
       "      <td>1970-71</td>\n",
       "      <td>Athletic Club</td>\n",
       "      <td>Barcelona</td>\n",
       "      <td>1</td>\n",
       "      <td>1</td>\n",
       "      <td>0</td>\n",
       "      <td>0</td>\n",
       "    </tr>\n",
       "    <tr>\n",
       "      <th>2</th>\n",
       "      <td>1970-71</td>\n",
       "      <td>Athletic Club</td>\n",
       "      <td>CD Malaga</td>\n",
       "      <td>2</td>\n",
       "      <td>1</td>\n",
       "      <td>1</td>\n",
       "      <td>1</td>\n",
       "    </tr>\n",
       "    <tr>\n",
       "      <th>3</th>\n",
       "      <td>1970-71</td>\n",
       "      <td>Athletic Club</td>\n",
       "      <td>Celta de Vigo</td>\n",
       "      <td>2</td>\n",
       "      <td>0</td>\n",
       "      <td>2</td>\n",
       "      <td>1</td>\n",
       "    </tr>\n",
       "    <tr>\n",
       "      <th>4</th>\n",
       "      <td>1970-71</td>\n",
       "      <td>Athletic Club</td>\n",
       "      <td>Elche</td>\n",
       "      <td>2</td>\n",
       "      <td>0</td>\n",
       "      <td>2</td>\n",
       "      <td>1</td>\n",
       "    </tr>\n",
       "  </tbody>\n",
       "</table>\n",
       "</div>"
      ],
      "text/plain": [
       "    season      localTeam         visitorTeam  localGoals  visitorGoals  \\\n",
       "0  1970-71  Athletic Club  Atletico de Madrid           1             0   \n",
       "1  1970-71  Athletic Club           Barcelona           1             1   \n",
       "2  1970-71  Athletic Club           CD Malaga           2             1   \n",
       "3  1970-71  Athletic Club       Celta de Vigo           2             0   \n",
       "4  1970-71  Athletic Club               Elche           2             0   \n",
       "\n",
       "   difference  localWin  \n",
       "0           1         1  \n",
       "1           0         0  \n",
       "2           1         1  \n",
       "3           2         1  \n",
       "4           2         1  "
      ]
     },
     "execution_count": 23,
     "metadata": {},
     "output_type": "execute_result"
    }
   ],
   "source": [
    "# 1 for win, -1 for loss, 0 for draw (or tie)\n",
    "season_local_visitor['localWin'] = season_local_visitor['difference'].apply(lambda x: 1 if x > 0 else (0 if x == 0 else -1))\n",
    "season_local_visitor.reset_index(inplace = True)\n",
    "season_local_visitor.head()"
   ]
  },
  {
   "cell_type": "code",
   "execution_count": 24,
   "metadata": {
    "_cell_guid": "f25dbbcd-ba14-4ef1-b573-412f54f3eb87",
    "_uuid": "c227f7b33d8d4495917b28e6e08004a314c705c4"
   },
   "outputs": [
    {
     "data": {
      "text/plain": [
       "['1970-71',\n",
       " '1971-72',\n",
       " '1972-73',\n",
       " '1973-74',\n",
       " '1974-75',\n",
       " '1975-76',\n",
       " '1976-77',\n",
       " '1977-78',\n",
       " '1978-79',\n",
       " '1979-80',\n",
       " '1980-81',\n",
       " '1981-82',\n",
       " '1982-83',\n",
       " '1983-84',\n",
       " '1984-85',\n",
       " '1985-86',\n",
       " '1986-87',\n",
       " '1987-88',\n",
       " '1988-89',\n",
       " '1989-90',\n",
       " '1990-91',\n",
       " '1991-92',\n",
       " '1992-93',\n",
       " '1993-94',\n",
       " '1994-95']"
      ]
     },
     "execution_count": 24,
     "metadata": {},
     "output_type": "execute_result"
    }
   ],
   "source": [
    "seasonBefore1995 = seasons[0:list(season_local_visitor['season'].unique()).index('1994-95')+1]\n",
    "seasonBefore1995"
   ]
  },
  {
   "cell_type": "code",
   "execution_count": 25,
   "metadata": {
    "_cell_guid": "6844ec8d-457b-40f4-ae53-8c021beec505",
    "_uuid": "9e870eeacadcd591ddaae53bc718d431f6bc28a2"
   },
   "outputs": [
    {
     "data": {
      "text/html": [
       "<div>\n",
       "<style>\n",
       "    .dataframe thead tr:only-child th {\n",
       "        text-align: right;\n",
       "    }\n",
       "\n",
       "    .dataframe thead th {\n",
       "        text-align: left;\n",
       "    }\n",
       "\n",
       "    .dataframe tbody tr th {\n",
       "        vertical-align: top;\n",
       "    }\n",
       "</style>\n",
       "<table border=\"1\" class=\"dataframe\">\n",
       "  <thead>\n",
       "    <tr style=\"text-align: right;\">\n",
       "      <th></th>\n",
       "      <th>season</th>\n",
       "      <th>localTeam</th>\n",
       "      <th>visitorTeam</th>\n",
       "      <th>localGoals</th>\n",
       "      <th>visitorGoals</th>\n",
       "      <th>difference</th>\n",
       "      <th>localWin</th>\n",
       "      <th>localPoints</th>\n",
       "      <th>visitorPoints</th>\n",
       "    </tr>\n",
       "  </thead>\n",
       "  <tbody>\n",
       "    <tr>\n",
       "      <th>0</th>\n",
       "      <td>1970-71</td>\n",
       "      <td>Athletic Club</td>\n",
       "      <td>Atletico de Madrid</td>\n",
       "      <td>1</td>\n",
       "      <td>0</td>\n",
       "      <td>1</td>\n",
       "      <td>1</td>\n",
       "      <td>2</td>\n",
       "      <td>0</td>\n",
       "    </tr>\n",
       "    <tr>\n",
       "      <th>1</th>\n",
       "      <td>1970-71</td>\n",
       "      <td>Athletic Club</td>\n",
       "      <td>Barcelona</td>\n",
       "      <td>1</td>\n",
       "      <td>1</td>\n",
       "      <td>0</td>\n",
       "      <td>0</td>\n",
       "      <td>1</td>\n",
       "      <td>1</td>\n",
       "    </tr>\n",
       "    <tr>\n",
       "      <th>2</th>\n",
       "      <td>1970-71</td>\n",
       "      <td>Athletic Club</td>\n",
       "      <td>CD Malaga</td>\n",
       "      <td>2</td>\n",
       "      <td>1</td>\n",
       "      <td>1</td>\n",
       "      <td>1</td>\n",
       "      <td>2</td>\n",
       "      <td>0</td>\n",
       "    </tr>\n",
       "    <tr>\n",
       "      <th>3</th>\n",
       "      <td>1970-71</td>\n",
       "      <td>Athletic Club</td>\n",
       "      <td>Celta de Vigo</td>\n",
       "      <td>2</td>\n",
       "      <td>0</td>\n",
       "      <td>2</td>\n",
       "      <td>1</td>\n",
       "      <td>2</td>\n",
       "      <td>0</td>\n",
       "    </tr>\n",
       "    <tr>\n",
       "      <th>4</th>\n",
       "      <td>1970-71</td>\n",
       "      <td>Athletic Club</td>\n",
       "      <td>Elche</td>\n",
       "      <td>2</td>\n",
       "      <td>0</td>\n",
       "      <td>2</td>\n",
       "      <td>1</td>\n",
       "      <td>2</td>\n",
       "      <td>0</td>\n",
       "    </tr>\n",
       "  </tbody>\n",
       "</table>\n",
       "</div>"
      ],
      "text/plain": [
       "    season      localTeam         visitorTeam  localGoals  visitorGoals  \\\n",
       "0  1970-71  Athletic Club  Atletico de Madrid           1             0   \n",
       "1  1970-71  Athletic Club           Barcelona           1             1   \n",
       "2  1970-71  Athletic Club           CD Malaga           2             1   \n",
       "3  1970-71  Athletic Club       Celta de Vigo           2             0   \n",
       "4  1970-71  Athletic Club               Elche           2             0   \n",
       "\n",
       "   difference  localWin  localPoints  visitorPoints  \n",
       "0           1         1            2              0  \n",
       "1           0         0            1              1  \n",
       "2           1         1            2              0  \n",
       "3           2         1            2              0  \n",
       "4           2         1            2              0  "
      ]
     },
     "execution_count": 25,
     "metadata": {},
     "output_type": "execute_result"
    }
   ],
   "source": [
    "season_local_visitor['localPoints'] = season_local_visitor.apply(lambda x: 2 if (x['localWin'] == 1 and x['season'] in seasonBefore1995) \n",
    "                                                                 else (3 if (x['localWin'] == 1 and x['season'] not in seasonBefore1995)\n",
    "                                                                 else (1 if x['localWin'] == 0 else 0)), axis = 1)\n",
    "#season_local_visitor\n",
    "season_local_visitor['visitorPoints'] = season_local_visitor.apply(lambda x: 2 if (x['localPoints'] == 0 and x['season'] in seasonBefore1995)\n",
    "                                                                   else (3 if (x['localPoints'] == 0 and x['season'] not in seasonBefore1995)\n",
    "                                                                   else (1 if x['localPoints'] == 1 else 0)), axis = 1)\n",
    "season_local_visitor.head()\n",
    "# season_local_visitor.reset_index(inplace = True)\n",
    "# season_local_visitor.head(15)"
   ]
  },
  {
   "cell_type": "code",
   "execution_count": 26,
   "metadata": {
    "_cell_guid": "b6024faa-1142-445d-b403-35c388bbbb75",
    "_uuid": "96d3c0c0e139db3361a0f7ada2d6d09466744d46"
   },
   "outputs": [
    {
     "data": {
      "text/html": [
       "<div>\n",
       "<style>\n",
       "    .dataframe thead tr:only-child th {\n",
       "        text-align: right;\n",
       "    }\n",
       "\n",
       "    .dataframe thead th {\n",
       "        text-align: left;\n",
       "    }\n",
       "\n",
       "    .dataframe tbody tr th {\n",
       "        vertical-align: top;\n",
       "    }\n",
       "</style>\n",
       "<table border=\"1\" class=\"dataframe\">\n",
       "  <thead>\n",
       "    <tr style=\"text-align: right;\">\n",
       "      <th></th>\n",
       "      <th></th>\n",
       "      <th>localPoints</th>\n",
       "    </tr>\n",
       "    <tr>\n",
       "      <th>season</th>\n",
       "      <th>localTeam</th>\n",
       "      <th></th>\n",
       "    </tr>\n",
       "  </thead>\n",
       "  <tbody>\n",
       "    <tr>\n",
       "      <th rowspan=\"5\" valign=\"top\">1970-71</th>\n",
       "      <th>Athletic Club</th>\n",
       "      <td>25</td>\n",
       "    </tr>\n",
       "    <tr>\n",
       "      <th>Atletico de Madrid</th>\n",
       "      <td>28</td>\n",
       "    </tr>\n",
       "    <tr>\n",
       "      <th>Barcelona</th>\n",
       "      <td>23</td>\n",
       "    </tr>\n",
       "    <tr>\n",
       "      <th>CD Malaga</th>\n",
       "      <td>18</td>\n",
       "    </tr>\n",
       "    <tr>\n",
       "      <th>Celta de Vigo</th>\n",
       "      <td>27</td>\n",
       "    </tr>\n",
       "  </tbody>\n",
       "</table>\n",
       "</div>"
      ],
      "text/plain": [
       "                            localPoints\n",
       "season  localTeam                      \n",
       "1970-71 Athletic Club                25\n",
       "        Atletico de Madrid           28\n",
       "        Barcelona                    23\n",
       "        CD Malaga                    18\n",
       "        Celta de Vigo                27"
      ]
     },
     "execution_count": 26,
     "metadata": {},
     "output_type": "execute_result"
    }
   ],
   "source": [
    "total_localPoints = season_local_visitor.groupby(['season', 'localTeam'])[['localPoints']].sum()\n",
    "total_localPoints.head()"
   ]
  },
  {
   "cell_type": "code",
   "execution_count": 27,
   "metadata": {
    "_cell_guid": "b18a33fb-2d02-4858-8660-45a04a168234",
    "_uuid": "663cf6f801197548293e9b74b22255e6a2990b64"
   },
   "outputs": [
    {
     "data": {
      "text/html": [
       "<div>\n",
       "<style>\n",
       "    .dataframe thead tr:only-child th {\n",
       "        text-align: right;\n",
       "    }\n",
       "\n",
       "    .dataframe thead th {\n",
       "        text-align: left;\n",
       "    }\n",
       "\n",
       "    .dataframe tbody tr th {\n",
       "        vertical-align: top;\n",
       "    }\n",
       "</style>\n",
       "<table border=\"1\" class=\"dataframe\">\n",
       "  <thead>\n",
       "    <tr style=\"text-align: right;\">\n",
       "      <th></th>\n",
       "      <th></th>\n",
       "      <th>visitorPoints</th>\n",
       "    </tr>\n",
       "    <tr>\n",
       "      <th>season</th>\n",
       "      <th>visitorTeam</th>\n",
       "      <th></th>\n",
       "    </tr>\n",
       "  </thead>\n",
       "  <tbody>\n",
       "    <tr>\n",
       "      <th rowspan=\"5\" valign=\"top\">1970-71</th>\n",
       "      <th>Athletic Club</th>\n",
       "      <td>10</td>\n",
       "    </tr>\n",
       "    <tr>\n",
       "      <th>Atletico de Madrid</th>\n",
       "      <td>14</td>\n",
       "    </tr>\n",
       "    <tr>\n",
       "      <th>Barcelona</th>\n",
       "      <td>20</td>\n",
       "    </tr>\n",
       "    <tr>\n",
       "      <th>CD Malaga</th>\n",
       "      <td>10</td>\n",
       "    </tr>\n",
       "    <tr>\n",
       "      <th>Celta de Vigo</th>\n",
       "      <td>8</td>\n",
       "    </tr>\n",
       "  </tbody>\n",
       "</table>\n",
       "</div>"
      ],
      "text/plain": [
       "                            visitorPoints\n",
       "season  visitorTeam                      \n",
       "1970-71 Athletic Club                  10\n",
       "        Atletico de Madrid             14\n",
       "        Barcelona                      20\n",
       "        CD Malaga                      10\n",
       "        Celta de Vigo                   8"
      ]
     },
     "execution_count": 27,
     "metadata": {},
     "output_type": "execute_result"
    }
   ],
   "source": [
    "total_visitorPoints = season_local_visitor.groupby(['season', 'visitorTeam'])[['visitorPoints']].sum()\n",
    "total_visitorPoints.head()"
   ]
  },
  {
   "cell_type": "code",
   "execution_count": 28,
   "metadata": {
    "_cell_guid": "18558923-4ebc-4bc5-bfea-7e1ef8cfb380",
    "_uuid": "11803a2ecf0447bb6afd8c4af177250178489d51"
   },
   "outputs": [
    {
     "data": {
      "text/html": [
       "<div>\n",
       "<style>\n",
       "    .dataframe thead tr:only-child th {\n",
       "        text-align: right;\n",
       "    }\n",
       "\n",
       "    .dataframe thead th {\n",
       "        text-align: left;\n",
       "    }\n",
       "\n",
       "    .dataframe tbody tr th {\n",
       "        vertical-align: top;\n",
       "    }\n",
       "</style>\n",
       "<table border=\"1\" class=\"dataframe\">\n",
       "  <thead>\n",
       "    <tr style=\"text-align: right;\">\n",
       "      <th></th>\n",
       "      <th></th>\n",
       "      <th>localPoints</th>\n",
       "      <th>visitorPoints</th>\n",
       "      <th>totalPoints</th>\n",
       "    </tr>\n",
       "    <tr>\n",
       "      <th>season</th>\n",
       "      <th>localTeam</th>\n",
       "      <th></th>\n",
       "      <th></th>\n",
       "      <th></th>\n",
       "    </tr>\n",
       "  </thead>\n",
       "  <tbody>\n",
       "    <tr>\n",
       "      <th rowspan=\"16\" valign=\"top\">1970-71</th>\n",
       "      <th>Athletic Club</th>\n",
       "      <td>25</td>\n",
       "      <td>10</td>\n",
       "      <td>35</td>\n",
       "    </tr>\n",
       "    <tr>\n",
       "      <th>Atletico de Madrid</th>\n",
       "      <td>28</td>\n",
       "      <td>14</td>\n",
       "      <td>42</td>\n",
       "    </tr>\n",
       "    <tr>\n",
       "      <th>Barcelona</th>\n",
       "      <td>23</td>\n",
       "      <td>20</td>\n",
       "      <td>43</td>\n",
       "    </tr>\n",
       "    <tr>\n",
       "      <th>CD Malaga</th>\n",
       "      <td>18</td>\n",
       "      <td>10</td>\n",
       "      <td>28</td>\n",
       "    </tr>\n",
       "    <tr>\n",
       "      <th>Celta de Vigo</th>\n",
       "      <td>27</td>\n",
       "      <td>8</td>\n",
       "      <td>35</td>\n",
       "    </tr>\n",
       "    <tr>\n",
       "      <th>Elche</th>\n",
       "      <td>14</td>\n",
       "      <td>4</td>\n",
       "      <td>18</td>\n",
       "    </tr>\n",
       "    <tr>\n",
       "      <th>Espanyol</th>\n",
       "      <td>18</td>\n",
       "      <td>7</td>\n",
       "      <td>25</td>\n",
       "    </tr>\n",
       "    <tr>\n",
       "      <th>Granada</th>\n",
       "      <td>23</td>\n",
       "      <td>5</td>\n",
       "      <td>28</td>\n",
       "    </tr>\n",
       "    <tr>\n",
       "      <th>Las Palmas</th>\n",
       "      <td>17</td>\n",
       "      <td>3</td>\n",
       "      <td>20</td>\n",
       "    </tr>\n",
       "    <tr>\n",
       "      <th>Real Madrid</th>\n",
       "      <td>23</td>\n",
       "      <td>18</td>\n",
       "      <td>41</td>\n",
       "    </tr>\n",
       "    <tr>\n",
       "      <th>Real Sociedad</th>\n",
       "      <td>21</td>\n",
       "      <td>8</td>\n",
       "      <td>29</td>\n",
       "    </tr>\n",
       "    <tr>\n",
       "      <th>Real Zaragoza</th>\n",
       "      <td>13</td>\n",
       "      <td>2</td>\n",
       "      <td>15</td>\n",
       "    </tr>\n",
       "    <tr>\n",
       "      <th>Sabadell</th>\n",
       "      <td>20</td>\n",
       "      <td>1</td>\n",
       "      <td>21</td>\n",
       "    </tr>\n",
       "    <tr>\n",
       "      <th>Sevilla</th>\n",
       "      <td>25</td>\n",
       "      <td>7</td>\n",
       "      <td>32</td>\n",
       "    </tr>\n",
       "    <tr>\n",
       "      <th>Sporting de Gijon</th>\n",
       "      <td>20</td>\n",
       "      <td>5</td>\n",
       "      <td>25</td>\n",
       "    </tr>\n",
       "    <tr>\n",
       "      <th>Valencia</th>\n",
       "      <td>26</td>\n",
       "      <td>17</td>\n",
       "      <td>43</td>\n",
       "    </tr>\n",
       "    <tr>\n",
       "      <th rowspan=\"5\" valign=\"top\">1971-72</th>\n",
       "      <th>Athletic Club</th>\n",
       "      <td>23</td>\n",
       "      <td>11</td>\n",
       "      <td>34</td>\n",
       "    </tr>\n",
       "    <tr>\n",
       "      <th>Atletico de Madrid</th>\n",
       "      <td>23</td>\n",
       "      <td>16</td>\n",
       "      <td>39</td>\n",
       "    </tr>\n",
       "    <tr>\n",
       "      <th>Barcelona</th>\n",
       "      <td>25</td>\n",
       "      <td>18</td>\n",
       "      <td>43</td>\n",
       "    </tr>\n",
       "    <tr>\n",
       "      <th>Betis</th>\n",
       "      <td>24</td>\n",
       "      <td>6</td>\n",
       "      <td>30</td>\n",
       "    </tr>\n",
       "    <tr>\n",
       "      <th>Burgos</th>\n",
       "      <td>24</td>\n",
       "      <td>5</td>\n",
       "      <td>29</td>\n",
       "    </tr>\n",
       "  </tbody>\n",
       "</table>\n",
       "</div>"
      ],
      "text/plain": [
       "                            localPoints  visitorPoints  totalPoints\n",
       "season  localTeam                                                  \n",
       "1970-71 Athletic Club                25             10           35\n",
       "        Atletico de Madrid           28             14           42\n",
       "        Barcelona                    23             20           43\n",
       "        CD Malaga                    18             10           28\n",
       "        Celta de Vigo                27              8           35\n",
       "        Elche                        14              4           18\n",
       "        Espanyol                     18              7           25\n",
       "        Granada                      23              5           28\n",
       "        Las Palmas                   17              3           20\n",
       "        Real Madrid                  23             18           41\n",
       "        Real Sociedad                21              8           29\n",
       "        Real Zaragoza                13              2           15\n",
       "        Sabadell                     20              1           21\n",
       "        Sevilla                      25              7           32\n",
       "        Sporting de Gijon            20              5           25\n",
       "        Valencia                     26             17           43\n",
       "1971-72 Athletic Club                23             11           34\n",
       "        Atletico de Madrid           23             16           39\n",
       "        Barcelona                    25             18           43\n",
       "        Betis                        24              6           30\n",
       "        Burgos                       24              5           29"
      ]
     },
     "execution_count": 28,
     "metadata": {},
     "output_type": "execute_result"
    }
   ],
   "source": [
    "total_points = pd.concat([total_localPoints, total_visitorPoints], axis = 1)\n",
    "total_points['totalPoints'] = total_points['localPoints'] + total_points['visitorPoints']\n",
    "total_points.head(21)"
   ]
  },
  {
   "cell_type": "markdown",
   "metadata": {
    "_cell_guid": "213d1de6-b709-4919-bc57-47bc07b2cbf5",
    "_uuid": "079e31c43949cf03128b159c63abcc0c2d3b481b"
   },
   "source": [
    "We see that Barcelona and Valencia both had the same total points in season 1970-71. In cases such as this we need to refer to the two matches these two teams played against each others that season (each team plays twice with each other team: once as a home team and once as a visitor or an away team) and compare their total goals in these matches to break the tie (there are further rules if a tie remains, but we only use the first rule to break a tie, since it is less likely that two teams accumulate the same max total points, AND have the same number of total goals in their matches against each others). "
   ]
  },
  {
   "cell_type": "code",
   "execution_count": 29,
   "metadata": {
    "_cell_guid": "e2164c50-022c-4100-8eb6-e22dad78ba77",
    "_uuid": "2ffcfb0f8c9a8ce03bf6ad990755fc348a0235a5"
   },
   "outputs": [],
   "source": [
    "max_df = pd.DataFrame(columns = ['Season', 'Max Total Points', 'Max Total Points Team'])\n",
    "for season in seasons:\n",
    "    seasonSummary = pd.DataFrame(total_points.loc[season])\n",
    "    max_points = seasonSummary['totalPoints'].max()\n",
    "    max_points_team = seasonSummary['totalPoints'].idxmax()\n",
    "    max_points_ALL_teams = list(seasonSummary.loc[seasonSummary['totalPoints'] == max_points].index)#This returns a list of the teams that have the max points\n",
    "    if len(max_points_ALL_teams) == 2:#This conditional statement is to break a tie between two teams that have the same max number of points\n",
    "        #print(season, '\\n', max_points_ALL_teams[0: 2])\n",
    "        first_match = pd.DataFrame(season_local_visitor[(season_local_visitor['season'] == season) & \n",
    "                                   (season_local_visitor['localTeam'] == max_points_ALL_teams[0]) & \n",
    "                                   (season_local_visitor['visitorTeam'] == max_points_ALL_teams[1])\n",
    "                                  ])\n",
    "        second_match = pd.DataFrame(season_local_visitor[(season_local_visitor['season'] == season) & \n",
    "                                   (season_local_visitor['localTeam'] == max_points_ALL_teams[1]) & \n",
    "                                   (season_local_visitor['visitorTeam'] == max_points_ALL_teams[0])\n",
    "                                  ])\n",
    "        \n",
    "        first_second_matches = pd.concat([first_match, second_match])\n",
    "        if (first_second_matches[first_second_matches['localTeam'] == max_points_ALL_teams[0]]['difference'].item()>\n",
    "             first_second_matches[first_second_matches['localTeam'] == max_points_ALL_teams[1]]['difference'].item()):\n",
    "            max_points_team = max_points_ALL_teams[0]\n",
    "        else:\n",
    "            max_points_team = max_points_ALL_teams[1]\n",
    "        \n",
    "    max_df = max_df.append({'Season': season,\n",
    "                            'Max Total Points': max_points,\n",
    "                            'Max Total Points Team': max_points_team,\n",
    "                           }, \n",
    "                            ignore_index=True)"
   ]
  },
  {
   "cell_type": "code",
   "execution_count": 30,
   "metadata": {
    "_cell_guid": "7f2c9f2b-714a-4eb5-b86c-22ebd0eaffff",
    "_uuid": "0bb3cb5f0d36e3ac332004652a08a09da56e350c"
   },
   "outputs": [
    {
     "data": {
      "text/html": [
       "<div>\n",
       "<style>\n",
       "    .dataframe thead tr:only-child th {\n",
       "        text-align: right;\n",
       "    }\n",
       "\n",
       "    .dataframe thead th {\n",
       "        text-align: left;\n",
       "    }\n",
       "\n",
       "    .dataframe tbody tr th {\n",
       "        vertical-align: top;\n",
       "    }\n",
       "</style>\n",
       "<table border=\"1\" class=\"dataframe\">\n",
       "  <thead>\n",
       "    <tr style=\"text-align: right;\">\n",
       "      <th></th>\n",
       "      <th>Season</th>\n",
       "      <th>Max Total Points</th>\n",
       "      <th>Max Total Points Team</th>\n",
       "    </tr>\n",
       "  </thead>\n",
       "  <tbody>\n",
       "    <tr>\n",
       "      <th>0</th>\n",
       "      <td>1970-71</td>\n",
       "      <td>43</td>\n",
       "      <td>Valencia</td>\n",
       "    </tr>\n",
       "    <tr>\n",
       "      <th>1</th>\n",
       "      <td>1971-72</td>\n",
       "      <td>47</td>\n",
       "      <td>Real Madrid</td>\n",
       "    </tr>\n",
       "    <tr>\n",
       "      <th>2</th>\n",
       "      <td>1972-73</td>\n",
       "      <td>48</td>\n",
       "      <td>Atletico de Madrid</td>\n",
       "    </tr>\n",
       "    <tr>\n",
       "      <th>3</th>\n",
       "      <td>1973-74</td>\n",
       "      <td>50</td>\n",
       "      <td>Barcelona</td>\n",
       "    </tr>\n",
       "    <tr>\n",
       "      <th>4</th>\n",
       "      <td>1974-75</td>\n",
       "      <td>50</td>\n",
       "      <td>Real Madrid</td>\n",
       "    </tr>\n",
       "    <tr>\n",
       "      <th>5</th>\n",
       "      <td>1975-76</td>\n",
       "      <td>48</td>\n",
       "      <td>Real Madrid</td>\n",
       "    </tr>\n",
       "    <tr>\n",
       "      <th>6</th>\n",
       "      <td>1976-77</td>\n",
       "      <td>46</td>\n",
       "      <td>Atletico de Madrid</td>\n",
       "    </tr>\n",
       "    <tr>\n",
       "      <th>7</th>\n",
       "      <td>1977-78</td>\n",
       "      <td>47</td>\n",
       "      <td>Real Madrid</td>\n",
       "    </tr>\n",
       "    <tr>\n",
       "      <th>8</th>\n",
       "      <td>1978-79</td>\n",
       "      <td>47</td>\n",
       "      <td>Real Madrid</td>\n",
       "    </tr>\n",
       "    <tr>\n",
       "      <th>9</th>\n",
       "      <td>1979-80</td>\n",
       "      <td>53</td>\n",
       "      <td>Real Madrid</td>\n",
       "    </tr>\n",
       "    <tr>\n",
       "      <th>10</th>\n",
       "      <td>1980-81</td>\n",
       "      <td>45</td>\n",
       "      <td>Real Sociedad</td>\n",
       "    </tr>\n",
       "    <tr>\n",
       "      <th>11</th>\n",
       "      <td>1981-82</td>\n",
       "      <td>47</td>\n",
       "      <td>Real Sociedad</td>\n",
       "    </tr>\n",
       "    <tr>\n",
       "      <th>12</th>\n",
       "      <td>1982-83</td>\n",
       "      <td>50</td>\n",
       "      <td>Athletic Club</td>\n",
       "    </tr>\n",
       "    <tr>\n",
       "      <th>13</th>\n",
       "      <td>1983-84</td>\n",
       "      <td>49</td>\n",
       "      <td>Athletic Club</td>\n",
       "    </tr>\n",
       "    <tr>\n",
       "      <th>14</th>\n",
       "      <td>1984-85</td>\n",
       "      <td>53</td>\n",
       "      <td>Barcelona</td>\n",
       "    </tr>\n",
       "    <tr>\n",
       "      <th>15</th>\n",
       "      <td>1985-86</td>\n",
       "      <td>56</td>\n",
       "      <td>Real Madrid</td>\n",
       "    </tr>\n",
       "    <tr>\n",
       "      <th>16</th>\n",
       "      <td>1986-87</td>\n",
       "      <td>56</td>\n",
       "      <td>Real Madrid</td>\n",
       "    </tr>\n",
       "    <tr>\n",
       "      <th>17</th>\n",
       "      <td>1987-88</td>\n",
       "      <td>62</td>\n",
       "      <td>Real Madrid</td>\n",
       "    </tr>\n",
       "    <tr>\n",
       "      <th>18</th>\n",
       "      <td>1988-89</td>\n",
       "      <td>62</td>\n",
       "      <td>Real Madrid</td>\n",
       "    </tr>\n",
       "    <tr>\n",
       "      <th>19</th>\n",
       "      <td>1989-90</td>\n",
       "      <td>62</td>\n",
       "      <td>Real Madrid</td>\n",
       "    </tr>\n",
       "    <tr>\n",
       "      <th>20</th>\n",
       "      <td>1990-91</td>\n",
       "      <td>57</td>\n",
       "      <td>Barcelona</td>\n",
       "    </tr>\n",
       "    <tr>\n",
       "      <th>21</th>\n",
       "      <td>1991-92</td>\n",
       "      <td>55</td>\n",
       "      <td>Barcelona</td>\n",
       "    </tr>\n",
       "    <tr>\n",
       "      <th>22</th>\n",
       "      <td>1992-93</td>\n",
       "      <td>58</td>\n",
       "      <td>Barcelona</td>\n",
       "    </tr>\n",
       "    <tr>\n",
       "      <th>23</th>\n",
       "      <td>1993-94</td>\n",
       "      <td>56</td>\n",
       "      <td>Barcelona</td>\n",
       "    </tr>\n",
       "    <tr>\n",
       "      <th>24</th>\n",
       "      <td>1994-95</td>\n",
       "      <td>55</td>\n",
       "      <td>Real Madrid</td>\n",
       "    </tr>\n",
       "    <tr>\n",
       "      <th>25</th>\n",
       "      <td>1995-96</td>\n",
       "      <td>87</td>\n",
       "      <td>Atletico de Madrid</td>\n",
       "    </tr>\n",
       "    <tr>\n",
       "      <th>26</th>\n",
       "      <td>1996-97</td>\n",
       "      <td>92</td>\n",
       "      <td>Real Madrid</td>\n",
       "    </tr>\n",
       "    <tr>\n",
       "      <th>27</th>\n",
       "      <td>1997-98</td>\n",
       "      <td>74</td>\n",
       "      <td>Barcelona</td>\n",
       "    </tr>\n",
       "    <tr>\n",
       "      <th>28</th>\n",
       "      <td>1998-99</td>\n",
       "      <td>79</td>\n",
       "      <td>Barcelona</td>\n",
       "    </tr>\n",
       "    <tr>\n",
       "      <th>29</th>\n",
       "      <td>1999-00</td>\n",
       "      <td>69</td>\n",
       "      <td>Deportivo</td>\n",
       "    </tr>\n",
       "    <tr>\n",
       "      <th>30</th>\n",
       "      <td>2000-01</td>\n",
       "      <td>80</td>\n",
       "      <td>Real Madrid</td>\n",
       "    </tr>\n",
       "    <tr>\n",
       "      <th>31</th>\n",
       "      <td>2001-02</td>\n",
       "      <td>75</td>\n",
       "      <td>Valencia</td>\n",
       "    </tr>\n",
       "    <tr>\n",
       "      <th>32</th>\n",
       "      <td>2002-03</td>\n",
       "      <td>78</td>\n",
       "      <td>Real Madrid</td>\n",
       "    </tr>\n",
       "    <tr>\n",
       "      <th>33</th>\n",
       "      <td>2003-04</td>\n",
       "      <td>77</td>\n",
       "      <td>Valencia</td>\n",
       "    </tr>\n",
       "    <tr>\n",
       "      <th>34</th>\n",
       "      <td>2004-05</td>\n",
       "      <td>84</td>\n",
       "      <td>Barcelona</td>\n",
       "    </tr>\n",
       "    <tr>\n",
       "      <th>35</th>\n",
       "      <td>2005-06</td>\n",
       "      <td>82</td>\n",
       "      <td>Barcelona</td>\n",
       "    </tr>\n",
       "    <tr>\n",
       "      <th>36</th>\n",
       "      <td>2006-07</td>\n",
       "      <td>76</td>\n",
       "      <td>Real Madrid</td>\n",
       "    </tr>\n",
       "    <tr>\n",
       "      <th>37</th>\n",
       "      <td>2007-08</td>\n",
       "      <td>85</td>\n",
       "      <td>Real Madrid</td>\n",
       "    </tr>\n",
       "    <tr>\n",
       "      <th>38</th>\n",
       "      <td>2008-09</td>\n",
       "      <td>87</td>\n",
       "      <td>Barcelona</td>\n",
       "    </tr>\n",
       "    <tr>\n",
       "      <th>39</th>\n",
       "      <td>2009-10</td>\n",
       "      <td>99</td>\n",
       "      <td>Barcelona</td>\n",
       "    </tr>\n",
       "    <tr>\n",
       "      <th>40</th>\n",
       "      <td>2010-11</td>\n",
       "      <td>96</td>\n",
       "      <td>Barcelona</td>\n",
       "    </tr>\n",
       "    <tr>\n",
       "      <th>41</th>\n",
       "      <td>2011-12</td>\n",
       "      <td>100</td>\n",
       "      <td>Real Madrid</td>\n",
       "    </tr>\n",
       "    <tr>\n",
       "      <th>42</th>\n",
       "      <td>2012-13</td>\n",
       "      <td>100</td>\n",
       "      <td>Barcelona</td>\n",
       "    </tr>\n",
       "    <tr>\n",
       "      <th>43</th>\n",
       "      <td>2013-14</td>\n",
       "      <td>90</td>\n",
       "      <td>Atletico de Madrid</td>\n",
       "    </tr>\n",
       "    <tr>\n",
       "      <th>44</th>\n",
       "      <td>2014-15</td>\n",
       "      <td>94</td>\n",
       "      <td>Barcelona</td>\n",
       "    </tr>\n",
       "    <tr>\n",
       "      <th>45</th>\n",
       "      <td>2015-16</td>\n",
       "      <td>91</td>\n",
       "      <td>Barcelona</td>\n",
       "    </tr>\n",
       "    <tr>\n",
       "      <th>46</th>\n",
       "      <td>2016-17</td>\n",
       "      <td>93</td>\n",
       "      <td>Real Madrid</td>\n",
       "    </tr>\n",
       "    <tr>\n",
       "      <th>47</th>\n",
       "      <td>2017-2018</td>\n",
       "      <td>39</td>\n",
       "      <td>Barcelona</td>\n",
       "    </tr>\n",
       "  </tbody>\n",
       "</table>\n",
       "</div>"
      ],
      "text/plain": [
       "       Season Max Total Points Max Total Points Team\n",
       "0     1970-71               43              Valencia\n",
       "1     1971-72               47           Real Madrid\n",
       "2     1972-73               48    Atletico de Madrid\n",
       "3     1973-74               50             Barcelona\n",
       "4     1974-75               50           Real Madrid\n",
       "5     1975-76               48           Real Madrid\n",
       "6     1976-77               46    Atletico de Madrid\n",
       "7     1977-78               47           Real Madrid\n",
       "8     1978-79               47           Real Madrid\n",
       "9     1979-80               53           Real Madrid\n",
       "10    1980-81               45         Real Sociedad\n",
       "11    1981-82               47         Real Sociedad\n",
       "12    1982-83               50         Athletic Club\n",
       "13    1983-84               49         Athletic Club\n",
       "14    1984-85               53             Barcelona\n",
       "15    1985-86               56           Real Madrid\n",
       "16    1986-87               56           Real Madrid\n",
       "17    1987-88               62           Real Madrid\n",
       "18    1988-89               62           Real Madrid\n",
       "19    1989-90               62           Real Madrid\n",
       "20    1990-91               57             Barcelona\n",
       "21    1991-92               55             Barcelona\n",
       "22    1992-93               58             Barcelona\n",
       "23    1993-94               56             Barcelona\n",
       "24    1994-95               55           Real Madrid\n",
       "25    1995-96               87    Atletico de Madrid\n",
       "26    1996-97               92           Real Madrid\n",
       "27    1997-98               74             Barcelona\n",
       "28    1998-99               79             Barcelona\n",
       "29    1999-00               69             Deportivo\n",
       "30    2000-01               80           Real Madrid\n",
       "31    2001-02               75              Valencia\n",
       "32    2002-03               78           Real Madrid\n",
       "33    2003-04               77              Valencia\n",
       "34    2004-05               84             Barcelona\n",
       "35    2005-06               82             Barcelona\n",
       "36    2006-07               76           Real Madrid\n",
       "37    2007-08               85           Real Madrid\n",
       "38    2008-09               87             Barcelona\n",
       "39    2009-10               99             Barcelona\n",
       "40    2010-11               96             Barcelona\n",
       "41    2011-12              100           Real Madrid\n",
       "42    2012-13              100             Barcelona\n",
       "43    2013-14               90    Atletico de Madrid\n",
       "44    2014-15               94             Barcelona\n",
       "45    2015-16               91             Barcelona\n",
       "46    2016-17               93           Real Madrid\n",
       "47  2017-2018               39             Barcelona"
      ]
     },
     "execution_count": 30,
     "metadata": {},
     "output_type": "execute_result"
    }
   ],
   "source": [
    "max_df"
   ]
  },
  {
   "cell_type": "markdown",
   "metadata": {
    "_cell_guid": "e5d5eafd-b84b-4892-8f99-d5ef6990e314",
    "_uuid": "d1e3d49ed9bd67562f00fb6fe431634611d0bb39"
   },
   "source": [
    "## The champions of each season and their total points:\n",
    "Now we have all the details to find the champions of the la liga division 1. "
   ]
  },
  {
   "cell_type": "code",
   "execution_count": 31,
   "metadata": {
    "_cell_guid": "49c5f59c-a66d-4a4a-a937-f4dec34afa53",
    "_uuid": "b88782475a81f2285fa862f67179f27e8578ade8"
   },
   "outputs": [
    {
     "data": {
      "image/png": "[encoded data removed]",
      "text/plain": [
       "<matplotlib.figure.Figure at 0xd577550>"
      ]
     },
     "metadata": {},
     "output_type": "display_data"
    }
   ],
   "source": [
    "plt.figure(figsize = (20, 8))\n",
    "plt.xticks(rotation = 'vertical')\n",
    "g = sns.barplot(x = 'Season', y = 'Max Total Points', data = max_df)\n",
    "for i, rect in enumerate(g.patches):\n",
    "    height = rect.get_height()\n",
    "    plt.text(rect.get_x() + rect.get_width()/2.0, height, '%d' % int(height), ha='center', va='bottom')\n",
    "    plt.text(rect.get_x() + rect.get_width()/2.0, len(max_df.loc[i, 'Max Total Points Team']), \n",
    "             max_df.loc[i, 'Max Total Points Team'], ha='center', va='bottom', rotation = 'vertical')"
   ]
  },
  {
   "cell_type": "markdown",
   "metadata": {
    "_cell_guid": "e24d6790-ff86-4030-be15-60cba3f032b1",
    "_uuid": "0f20a08223f43a376d9aacaf1198c6f02ebd6f1b"
   },
   "source": []
  },
  {
   "cell_type": "markdown",
   "metadata": {
    "_cell_guid": "c68fba92-f1b3-4876-958a-8a8c59341384",
    "_uuid": "4e5a1f867b62e0448d88b9490be8ba6ff44d023d"
   },
   "source": [
    "# Total number of winning the champion title:"
   ]
  },
  {
   "cell_type": "code",
   "execution_count": 32,
   "metadata": {
    "_cell_guid": "e19a2ff9-fe68-40a0-a498-bee5677b0495",
    "_uuid": "9d7dde3711ffd6ea0acb955e1457f0c4ddefca83"
   },
   "outputs": [
    {
     "data": {
      "image/png": "[encoded data removed]",
      "text/plain": [
       "<matplotlib.figure.Figure at 0xd56b1d0>"
      ]
     },
     "metadata": {},
     "output_type": "display_data"
    }
   ],
   "source": [
    "plt.figure(figsize = (10, 8))\n",
    "plt.xticks(rotation = 30)\n",
    "plt.yticks([0, 5, 10, 15, 20])\n",
    "g = sns.countplot(x = 'Max Total Points Team', data = max_df)\n",
    "for rect in g.patches:\n",
    "    height = rect.get_height()\n",
    "    plt.text(rect.get_x() + rect.get_width()/2.0, height, '%d' % int(height), ha='center', va='bottom')"
   ]
  },
  {
   "cell_type": "markdown",
   "metadata": {
    "_cell_guid": "31a6a5b9-6fe7-427c-b1d8-f5d259c79790",
    "_uuid": "d223f09ad1d4fb1dd237f913488786d167686690"
   },
   "source": [
    "As we said earlier, Real Madrid and Barcelona compete on the title most of the seasons. Since 1970-71 Real Madrid has won 19 times, while Barcelona has won the title 17 times (including this unfinished season, but if you watch the spanish La Liga, Barcelona looks in its way to win its next champion's title in La Liga)."
   ]
  },
  {
   "cell_type": "markdown",
   "metadata": {
    "_cell_guid": "7dc58a73-cfe9-440a-9892-a0e251b52d5c",
    "_uuid": "7683b7efb7bbb7fcef648af2155aae29d40e8828"
   },
   "source": [
    "If you have any comment or suggestion about this work, I will be happy to hear it. Thanks for reading. "
   ]
  },
  {
   "cell_type": "code",
   "execution_count": null,
   "metadata": {
    "_cell_guid": "c3b2f310-3acf-44b5-bb66-d3e05bc6d980",
    "_uuid": "0493fd54cbcb1f8998986c8356f72e15d83ee746"
   },
   "outputs": [],
   "source": []
  }
 ],
 "metadata": {
  "kernelspec": {
   "display_name": "Python 3",
   "language": "python",
   "name": "python3"
  }
 },
 "nbformat": 4,
 "nbformat_minor": 1
}
